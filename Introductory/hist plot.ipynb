{
 "cells": [
  {
   "cell_type": "markdown",
   "metadata": {},
   "source": [
    "## matplotlib.pyplot.hist"
   ]
  },
  {
   "cell_type": "markdown",
   "metadata": {},
   "source": [
    "#### matplotlib.pyplot.hist(x, bins=None, range=None, density=None, weights=None, cumulative=False, bottom=None, histtype='bar', align='mid', orientation='vertical', rwidth=None, log=False, color=None, label=None, stacked=False, normed=None, *, data=None, **kwargs)"
   ]
  },
  {
   "cell_type": "markdown",
   "metadata": {},
   "source": [
    "Plot a histogram.\n",
    "\n",
    "Compute and draw the histogram of x. The return value is a tuple (n, bins, patches) or ([n0, n1, ...], bins, [patches0, patches1,...]) if the input contains multiple data. See the documentation of the weights parameter to draw a histogram of already-binned data.\n",
    "\n",
    "Multiple data can be provided via x as a list of datasets of potentially different length ([x0, x1, ...]), or as a 2-D ndarray in which each column is a dataset. Note that the ndarray form is transposed relative to the list form.\n",
    "\n",
    "Masked arrays are not supported at present."
   ]
  },
  {
   "cell_type": "markdown",
   "metadata": {},
   "source": [
    "##### Parameters:\t\n",
    "x : (n,) array or sequence of (n,) arrays\n",
    "Input values, this takes either a single array or a sequence of arrays which are not required to be of the same length.\n",
    "\n",
    "bins : int or sequence or str, optional\n",
    "If an integer is given, bins + 1 bin edges are calculated and returned, consistent with numpy.histogram.\n",
    "\n",
    "If bins is a sequence, gives bin edges, including left edge of first bin and right edge of last bin. In this case, bins is returned unmodified.\n",
    "\n",
    "All but the last (righthand-most) bin is half-open. In other words, if bins is:\n",
    "\n",
    "[1, 2, 3, 4]\n",
    "\n",
    "then the first bin is [1, 2) (including 1, but excluding 2) and the second [2, 3). The last bin, however, is [3, 4], which includes 4.\n",
    "\n",
    "Unequally spaced bins are supported if bins is a sequence.\n",
    "\n",
    "With Numpy 1.11 or newer, you can alternatively provide a string describing a binning strategy, such as 'auto', 'sturges', 'fd', 'doane', 'scott', 'rice' or 'sqrt', see numpy.histogram.\n",
    "\n",
    "The default is taken from rcParams[\"hist.bins\"].\n",
    "\n",
    "range : tuple or None, optional\n",
    "The lower and upper range of the bins. Lower and upper outliers are ignored. If not provided, range is (x.min(), x.max()). Range has no effect if bins is a sequence.\n",
    "\n",
    "If bins is a sequence or range is specified, autoscaling is based on the specified bin range instead of the range of x.\n",
    "\n",
    "Default is None\n",
    "\n",
    "density : bool, optional\n",
    "If True, the first element of the return tuple will be the counts normalized to form a probability density, i.e., the area (or integral) under the histogram will sum to 1. This is achieved by dividing the count by the number of observations times the bin width and not dividing by the total number of observations. If stacked is also True, the sum of the histograms is normalized to 1.\n",
    "\n",
    "Default is None for both normed and density. If either is set, then that value will be used. If neither are set, then the args will be treated as False.\n",
    "\n",
    "If both density and normed are set an error is raised.\n",
    "\n",
    "weights : (n, ) array_like or None, optional\n",
    "An array of weights, of the same shape as x. Each value in x only contributes its associated weight towards the bin count (instead of 1). If normed or density is True, the weights are normalized, so that the integral of the density over the range remains 1.\n",
    "\n",
    "Default is None.\n",
    "\n",
    "This parameter can be used to draw a histogram of data that has already been binned, e.g. using np.histogram (by treating each bin as a single point with a weight equal to its count)\n",
    "\n",
    "counts, bins = np.histogram(data)\n",
    "plt.hist(bins[:-1], bins, weights=counts)\n",
    "Copy to clipboard\n",
    "(or you may alternatively use bar()).\n",
    "\n",
    "cumulative : bool, optional\n",
    "If True, then a histogram is computed where each bin gives the counts in that bin plus all bins for smaller values. The last bin gives the total number of datapoints. If normed or density is also True then the histogram is normalized such that the last bin equals 1. If cumulative evaluates to less than 0 (e.g., -1), the direction of accumulation is reversed. In this case, if normed and/or density is also True, then the histogram is normalized such that the first bin equals 1.\n",
    "\n",
    "Default is False\n",
    "\n",
    "bottom : array_like, scalar, or None\n",
    "Location of the bottom baseline of each bin. If a scalar, the base line for each bin is shifted by the same amount. If an array, each bin is shifted independently and the length of bottom must match the number of bins. If None, defaults to 0.\n",
    "\n",
    "Default is None\n",
    "\n",
    "histtype : {'bar', 'barstacked', 'step', 'stepfilled'}, optional\n",
    "The type of histogram to draw.\n",
    "\n",
    "1. 'bar' is a traditional bar-type histogram. If multiple data are given the bars are arranged side by side.\n",
    "2. 'barstacked' is a bar-type histogram where multiple data are stacked on top of each other.\n",
    "3. 'step' generates a lineplot that is by default unfilled.\n",
    "4. 'stepfilled' generates a lineplot that is by default filled.\n",
    "\n",
    "Default is 'bar'\n",
    "\n",
    "align : {'left', 'mid', 'right'}, optional\n",
    "Controls how the histogram is plotted.\n",
    "\n",
    "1. 'left': bars are centered on the left bin edges.\n",
    "2. 'mid': bars are centered between the bin edges.\n",
    "3. 'right': bars are centered on the right bin edges.\n",
    "\n",
    "Default is 'mid'\n",
    "\n",
    "orientation : {'horizontal', 'vertical'}, optional\n",
    "If 'horizontal', barh will be used for bar-type histograms and the bottom kwarg will be the left edges.\n",
    "\n",
    "rwidth : scalar or None, optional\n",
    "The relative width of the bars as a fraction of the bin width. If None, automatically compute the width.\n",
    "\n",
    "Ignored if histtype is 'step' or 'stepfilled'.\n",
    "\n",
    "Default is None\n",
    "\n",
    "log : bool, optional\n",
    "If True, the histogram axis will be set to a log scale. If log is True and x is a 1D array, empty bins will be filtered out and only the non-empty (n, bins, patches) will be returned.\n",
    "\n",
    "Default is False\n",
    "\n",
    "color : color or array_like of colors or None, optional\n",
    "Color spec or sequence of color specs, one per dataset. Default (None) uses the standard line color sequence.\n",
    "\n",
    "Default is None\n",
    "\n",
    "label : str or None, optional\n",
    "String, or sequence of strings to match multiple datasets. Bar charts yield multiple patches per dataset, but only the first gets the label, so that the legend command will work as expected.\n",
    "\n",
    "default is None\n",
    "\n",
    "stacked : bool, optional\n",
    "If True, multiple data are stacked on top of each other If False multiple data are arranged side by side if histtype is 'bar' or on top of each other if histtype is 'step'\n",
    "\n",
    "Default is False\n",
    "\n",
    "normed : bool, optional\n",
    "Deprecated; use the density keyword argument instead.\n",
    "\n",
    "#### Returns:\t\n",
    "n : array or list of arrays\n",
    "The values of the histogram bins. See density and weights for a description of the possible semantics. If input x is an array, then this is an array of length nbins. If input is a sequence of arrays [data1, data2,..], then this is a list of arrays with the values of the histograms for each of the arrays in the same order. The dtype of the array n (or of its element arrays) will always be float even if no weighting or normalization is used.\n",
    "\n",
    "bins : array\n",
    "The edges of the bins. Length nbins + 1 (nbins left edges and right edge of last bin). Always a single array even when multiple data sets are passed in.\n",
    "\n",
    "patches : list or list of lists\n",
    "Silent list of individual patches used to create the histogram or list of such list if multiple input datasets.\n",
    "\n",
    "#### Other Parameters:\t\n",
    "**kwargs : Patch properties"
   ]
  },
  {
   "cell_type": "code",
   "execution_count": 75,
   "metadata": {},
   "outputs": [
    {
     "data": {
      "image/png": "[encoded data removed]",
      "text/plain": [
       "<Figure size 432x288 with 1 Axes>"
      ]
     },
     "metadata": {
      "needs_background": "light"
     },
     "output_type": "display_data"
    }
   ],
   "source": [
    "import numpy as np\n",
    "import matplotlib.pyplot as plt\n",
    "\n",
    "x = np.arange(15)\n",
    "# the histogram of the data\n",
    "n, bins, patches = plt.hist(x, 20, density=True, facecolor='g', alpha=0.75)\n",
    "\n",
    "plt.xlabel('Smarts')\n",
    "plt.ylabel('Probability')\n",
    "plt.title('Histogram of IQ')\n",
    "plt.xticks(bins)\n",
    "plt.grid(True)\n",
    "plt.show()"
   ]
  },
  {
   "cell_type": "code",
   "execution_count": 76,
   "metadata": {},
   "outputs": [
    {
     "data": {
      "text/plain": [
       "array([ 0,  1,  2,  3,  4,  5,  6,  7,  8,  9, 10, 11, 12, 13, 14])"
      ]
     },
     "execution_count": 76,
     "metadata": {},
     "output_type": "execute_result"
    }
   ],
   "source": [
    "x"
   ]
  },
  {
   "cell_type": "code",
   "execution_count": 77,
   "metadata": {},
   "outputs": [
    {
     "name": "stdout",
     "output_type": "stream",
     "text": [
      "[0.0952381 0.0952381 0.0952381 0.        0.0952381 0.0952381 0.\n",
      " 0.0952381 0.0952381 0.        0.0952381 0.0952381 0.0952381 0.\n",
      " 0.0952381 0.0952381 0.        0.0952381 0.0952381 0.0952381]\n",
      "20\n",
      "1.4285714285714284\n",
      "0.07142857142857142\n"
     ]
    }
   ],
   "source": [
    "print(n)\n",
    "print(len(n))\n",
    "print(np.sum(n))\n",
    "print(np.sum(n)/len(n))"
   ]
  },
  {
   "cell_type": "code",
   "execution_count": 93,
   "metadata": {},
   "outputs": [
    {
     "name": "stdout",
     "output_type": "stream",
     "text": [
      "<a list of 15 Patch objects>\n",
      "[ 0.          0.93333333  1.86666667  2.8         3.73333333  4.66666667\n",
      "  5.6         6.53333333  7.46666667  8.4         9.33333333 10.26666667\n",
      " 11.2        12.13333333 13.06666667 14.        ]\n"
     ]
    }
   ],
   "source": [
    "print(patches)\n",
    "print(bins)"
   ]
  },
  {
   "cell_type": "code",
   "execution_count": 94,
   "metadata": {},
   "outputs": [
    {
     "data": {
      "image/png": "[encoded data removed]",
      "text/plain": [
       "<Figure size 432x288 with 1 Axes>"
      ]
     },
     "metadata": {
      "needs_background": "light"
     },
     "output_type": "display_data"
    }
   ],
   "source": [
    "import numpy as np\n",
    "import matplotlib.pyplot as plt\n",
    "\n",
    "x = np.arange(15)\n",
    "# the histogram of the data\n",
    "n, bins, patches = plt.hist(x, 15, density=True, facecolor='g', alpha=0.75)\n",
    "\n",
    "plt.xlabel('Smarts')\n",
    "plt.ylabel('Probability')\n",
    "plt.title('Histogram of IQ')\n",
    "plt.xticks(bins)\n",
    "plt.grid(True)\n",
    "plt.show()"
   ]
  },
  {
   "cell_type": "code",
   "execution_count": 95,
   "metadata": {},
   "outputs": [
    {
     "name": "stdout",
     "output_type": "stream",
     "text": [
      "[0.07142857 0.07142857 0.07142857 0.07142857 0.07142857 0.07142857\n",
      " 0.07142857 0.07142857 0.07142857 0.07142857 0.07142857 0.07142857\n",
      " 0.07142857 0.07142857 0.07142857]\n",
      "15\n",
      "1.0714285714285714\n",
      "0.07142857142857142\n"
     ]
    }
   ],
   "source": [
    "print(n)\n",
    "print(len(n))\n",
    "print(np.sum(n))\n",
    "print(np.sum(n)/len(n))"
   ]
  },
  {
   "cell_type": "code",
   "execution_count": 78,
   "metadata": {},
   "outputs": [
    {
     "data": {
      "image/png": "[encoded data removed]",
      "text/plain": [
       "<Figure size 432x288 with 1 Axes>"
      ]
     },
     "metadata": {
      "needs_background": "light"
     },
     "output_type": "display_data"
    }
   ],
   "source": [
    "import numpy as np\n",
    "import matplotlib.pyplot as plt\n",
    "\n",
    "x = np.arange(15)\n",
    "# the histogram of the data\n",
    "n, bins, patches = plt.hist(x, 7, density=True, facecolor='g', alpha=0.75)\n",
    "\n",
    "plt.xlabel('Smarts')\n",
    "plt.ylabel('Probability')\n",
    "plt.title('Histogram of IQ')\n",
    "plt.xticks(bins)\n",
    "plt.grid(True)\n",
    "plt.show()"
   ]
  },
  {
   "cell_type": "code",
   "execution_count": 79,
   "metadata": {},
   "outputs": [
    {
     "name": "stdout",
     "output_type": "stream",
     "text": [
      "[0.06666667 0.06666667 0.06666667 0.06666667 0.06666667 0.06666667\n",
      " 0.1       ]\n",
      "7\n",
      "0.5\n",
      "0.07142857142857142\n"
     ]
    }
   ],
   "source": [
    "print(n)\n",
    "print(len(n))\n",
    "print(np.sum(n))\n",
    "print(np.sum(n)/len(n))"
   ]
  },
  {
   "cell_type": "code",
   "execution_count": 60,
   "metadata": {},
   "outputs": [
    {
     "name": "stdout",
     "output_type": "stream",
     "text": [
      "<a list of 7 Patch objects>\n",
      "[ 0.  2.  4.  6.  8. 10. 12. 14.]\n"
     ]
    }
   ],
   "source": [
    "print(patches)\n",
    "print(bins)"
   ]
  },
  {
   "cell_type": "code",
   "execution_count": 80,
   "metadata": {},
   "outputs": [
    {
     "data": {
      "image/png": "[encoded data removed]",
      "text/plain": [
       "<Figure size 432x288 with 1 Axes>"
      ]
     },
     "metadata": {
      "needs_background": "light"
     },
     "output_type": "display_data"
    }
   ],
   "source": [
    "import numpy as np\n",
    "import matplotlib.pyplot as plt\n",
    "\n",
    "x = np.arange(15)\n",
    "# the histogram of the data\n",
    "n, bins, patches = plt.hist(x, 9, density=True, facecolor='g', alpha=0.75)\n",
    "\n",
    "plt.xlabel('Smarts')\n",
    "plt.ylabel('Probability')\n",
    "plt.title('Histogram of IQ')\n",
    "plt.xticks(bins)\n",
    "plt.grid(True)\n",
    "plt.show()"
   ]
  },
  {
   "cell_type": "code",
   "execution_count": 83,
   "metadata": {},
   "outputs": [
    {
     "data": {
      "image/png": "[encoded data removed]",
      "text/plain": [
       "<Figure size 432x288 with 1 Axes>"
      ]
     },
     "metadata": {
      "needs_background": "light"
     },
     "output_type": "display_data"
    }
   ],
   "source": [
    "import numpy as np\n",
    "import matplotlib.pyplot as plt\n",
    "\n",
    "x = np.arange(15)\n",
    "# the histogram of the data\n",
    "n, bins, patches = plt.hist(x, 9, density=False, facecolor='g', alpha=0.75)\n",
    "#n, bins, patches = plt.hist(x, 9, facecolor='g', alpha=0.75)\n",
    "\n",
    "plt.xlabel('Smarts')\n",
    "plt.ylabel('Probability')\n",
    "plt.title('Histogram of IQ')\n",
    "plt.xticks(bins)\n",
    "plt.grid(True)\n",
    "plt.show()"
   ]
  },
  {
   "cell_type": "code",
   "execution_count": 85,
   "metadata": {},
   "outputs": [
    {
     "name": "stdout",
     "output_type": "stream",
     "text": [
      "[2. 2. 1. 2. 1. 2. 1. 2. 2.]\n",
      "9\n",
      "15.0\n",
      "1.6666666666666667\n"
     ]
    }
   ],
   "source": [
    "print(n)\n",
    "print(len(n))\n",
    "print(np.sum(n))\n",
    "print(np.sum(n)/len(n))"
   ]
  },
  {
   "cell_type": "code",
   "execution_count": 88,
   "metadata": {},
   "outputs": [
    {
     "data": {
      "image/png": "[encoded data removed]",
      "text/plain": [
       "<Figure size 432x288 with 1 Axes>"
      ]
     },
     "metadata": {
      "needs_background": "light"
     },
     "output_type": "display_data"
    }
   ],
   "source": [
    "import numpy as np\n",
    "import matplotlib.pyplot as plt\n",
    "\n",
    "x = np.arange(15)\n",
    "# the histogram of the data\n",
    "n, bins, patches = plt.hist(x, 5, density=False, facecolor='g', alpha=0.75)\n",
    "#n, bins, patches = plt.hist(x, 9, facecolor='g', alpha=0.75)\n",
    "\n",
    "plt.xlabel('Smarts')\n",
    "plt.ylabel('Probability')\n",
    "plt.title('Histogram of IQ')\n",
    "plt.xticks(bins)\n",
    "plt.grid(True)\n",
    "plt.show()"
   ]
  },
  {
   "cell_type": "code",
   "execution_count": 90,
   "metadata": {},
   "outputs": [
    {
     "name": "stdout",
     "output_type": "stream",
     "text": [
      "[3. 3. 3. 3. 3.]\n",
      "5\n",
      "15.0\n",
      "3.0\n"
     ]
    }
   ],
   "source": [
    "print(n)\n",
    "print(len(n))\n",
    "print(np.sum(n))\n",
    "print(np.sum(n)/len(n))"
   ]
  },
  {
   "cell_type": "code",
   "execution_count": 91,
   "metadata": {},
   "outputs": [
    {
     "data": {
      "image/png": "[encoded data removed]",
      "text/plain": [
       "<Figure size 432x288 with 1 Axes>"
      ]
     },
     "metadata": {
      "needs_background": "light"
     },
     "output_type": "display_data"
    }
   ],
   "source": [
    "import numpy as np\n",
    "import matplotlib.pyplot as plt\n",
    "\n",
    "x = np.arange(15)\n",
    "# the histogram of the data\n",
    "n, bins, patches = plt.hist(x, 15, density=False, facecolor='g', alpha=0.75)\n",
    "#n, bins, patches = plt.hist(x, 9, facecolor='g', alpha=0.75)\n",
    "\n",
    "plt.xlabel('Smarts')\n",
    "plt.ylabel('Probability')\n",
    "plt.title('Histogram of IQ')\n",
    "plt.xticks(bins)\n",
    "plt.grid(True)\n",
    "plt.show()"
   ]
  },
  {
   "cell_type": "code",
   "execution_count": 97,
   "metadata": {},
   "outputs": [
    {
     "name": "stdout",
     "output_type": "stream",
     "text": [
      "[4.27405986e-05 1.28221796e-04 4.27405986e-05 2.13702993e-04\n",
      " 2.13702993e-04 2.56443592e-04 5.98368380e-04 8.54811972e-04\n",
      " 1.15399616e-03 1.70962394e-03 2.47895472e-03 4.27405986e-03\n",
      " 4.74420644e-03 5.98368380e-03 7.82152954e-03 1.16254428e-02\n",
      " 1.40616569e-02 1.69680176e-02 1.91477882e-02 2.11565963e-02\n",
      " 2.39774758e-02 2.34645886e-02 2.56016186e-02 2.74394643e-02\n",
      " 2.51314720e-02 2.51314720e-02 2.35928104e-02 2.35073292e-02\n",
      " 2.20968895e-02 1.92760100e-02 1.56430591e-02 1.34205480e-02\n",
      " 1.10270744e-02 9.65937528e-03 6.88123637e-03 5.34257482e-03\n",
      " 4.01761627e-03 3.16280430e-03 1.53866155e-03 1.41043975e-03\n",
      " 1.19673676e-03 4.27405986e-04 3.41924789e-04 1.70962394e-04\n",
      " 2.99184190e-04 8.54811972e-05 0.00000000e+00 0.00000000e+00\n",
      " 4.27405986e-05 4.27405986e-05]\n",
      "50\n",
      "0.42740598590415035\n",
      "0.008548119718083008\n"
     ]
    }
   ],
   "source": [
    "print(n)\n",
    "print(len(n))\n",
    "print(np.sum(n))\n",
    "print(np.sum(n)/len(n))"
   ]
  },
  {
   "cell_type": "code",
   "execution_count": 104,
   "metadata": {},
   "outputs": [
    {
     "data": {
      "image/png": "[encoded data removed]",
      "text/plain": [
       "<Figure size 432x288 with 1 Axes>"
      ]
     },
     "metadata": {
      "needs_background": "light"
     },
     "output_type": "display_data"
    }
   ],
   "source": [
    "import numpy as np\n",
    "import matplotlib.pyplot as plt\n",
    "\n",
    "x = np.arange(15)\n",
    "# the histogram of the data\n",
    "n, bins, patches = plt.hist(x, np.arange(5), density=False, facecolor='g', alpha=0.75)\n",
    "#n, bins, patches = plt.hist(x, 9, facecolor='g', alpha=0.75)\n",
    "\n",
    "plt.xlabel('Smarts')\n",
    "plt.ylabel('Probability')\n",
    "plt.title('Histogram of IQ')\n",
    "plt.xticks(bins)\n",
    "plt.grid(True)\n",
    "plt.show()"
   ]
  },
  {
   "cell_type": "code",
   "execution_count": 105,
   "metadata": {},
   "outputs": [
    {
     "name": "stdout",
     "output_type": "stream",
     "text": [
      "[1. 1. 1. 2.]\n",
      "4\n",
      "5.0\n",
      "1.25\n"
     ]
    }
   ],
   "source": [
    "print(n)\n",
    "print(len(n))\n",
    "print(np.sum(n))\n",
    "print(np.sum(n)/len(n))"
   ]
  },
  {
   "cell_type": "code",
   "execution_count": 109,
   "metadata": {},
   "outputs": [
    {
     "data": {
      "text/plain": [
       "array([0, 1, 2, 3, 4])"
      ]
     },
     "execution_count": 109,
     "metadata": {},
     "output_type": "execute_result"
    }
   ],
   "source": [
    "bins"
   ]
  },
  {
   "cell_type": "code",
   "execution_count": 115,
   "metadata": {},
   "outputs": [
    {
     "data": {
      "text/plain": [
       "array([8, 6, 8, 6, 5])"
      ]
     },
     "execution_count": 115,
     "metadata": {},
     "output_type": "execute_result"
    }
   ],
   "source": [
    "random_ints = np.random.randint(5, 10, 5)\n",
    "#ValueError: `bins` must increase monotonically, when an array\n",
    "#n, bins, patches = plt.hist(x, random_ints, density=False, facecolor='g', alpha=0.75)"
   ]
  },
  {
   "cell_type": "code",
   "execution_count": 120,
   "metadata": {},
   "outputs": [
    {
     "data": {
      "image/png": "[encoded data removed]",
      "text/plain": [
       "<Figure size 432x288 with 1 Axes>"
      ]
     },
     "metadata": {
      "needs_background": "light"
     },
     "output_type": "display_data"
    }
   ],
   "source": [
    "import numpy as np\n",
    "import matplotlib.pyplot as plt\n",
    "\n",
    "x = np.arange(15)\n",
    "# the histogram of the data\n",
    "n, bins, patches = plt.hist(x, [0] * len(x), density=False, facecolor='g', alpha=0.75)\n",
    "#n, bins, patches = plt.hist(x, 9, facecolor='g', alpha=0.75)\n",
    "\n",
    "plt.xlabel('Smarts')\n",
    "plt.ylabel('Probability')\n",
    "plt.title('Histogram of IQ')\n",
    "plt.xticks(bins)\n",
    "plt.grid(True)\n",
    "plt.show()"
   ]
  },
  {
   "cell_type": "code",
   "execution_count": 124,
   "metadata": {},
   "outputs": [
    {
     "name": "stdout",
     "output_type": "stream",
     "text": [
      "15\n",
      "[0. 0. 0. 0. 0. 0. 0. 0. 0. 0. 0. 0. 0. 1.]\n",
      "14\n",
      "1.0\n",
      "0.07142857142857142\n",
      "[0 0 0 0 0 0 0 0 0 0 0 0 0 0 0]\n"
     ]
    }
   ],
   "source": [
    "print(len(x))\n",
    "print(n)\n",
    "print(len(n))\n",
    "print(np.sum(n))\n",
    "print(np.sum(n)/len(n))\n",
    "print(bins)"
   ]
  },
  {
   "cell_type": "code",
   "execution_count": 148,
   "metadata": {},
   "outputs": [
    {
     "data": {
      "image/png": "[encoded data removed]",
      "text/plain": [
       "<Figure size 432x288 with 1 Axes>"
      ]
     },
     "metadata": {
      "needs_background": "light"
     },
     "output_type": "display_data"
    }
   ],
   "source": [
    "import numpy as np\n",
    "import matplotlib.pyplot as plt\n",
    "\n",
    "x = np.arange(15)\n",
    "# the histogram of the data\n",
    "n, bins, patches = plt.hist(x, 7, density=True, facecolor='g', alpha=0.75 ,range=(5, 10))\n",
    "\n",
    "plt.xlabel('Smarts')\n",
    "plt.ylabel('Probability')\n",
    "plt.title('Histogram of IQ')\n",
    "plt.xticks(bins)\n",
    "plt.grid(True)\n",
    "plt.show()"
   ]
  },
  {
   "cell_type": "code",
   "execution_count": 151,
   "metadata": {},
   "outputs": [
    {
     "data": {
      "image/png": "[encoded data removed]",
      "text/plain": [
       "<Figure size 432x288 with 1 Axes>"
      ]
     },
     "metadata": {
      "needs_background": "light"
     },
     "output_type": "display_data"
    }
   ],
   "source": [
    "import numpy as np\n",
    "import matplotlib.pyplot as plt\n",
    "\n",
    "x = np.arange(15)\n",
    "# the histogram of the data\n",
    " # range will be ignored if bin is a sequence\n",
    "n, bins, patches = plt.hist(x, x,  facecolor='g', alpha=0.75 ,range=(5, 10), bottom=-0.2, histtype='bar')\n",
    "\n",
    "plt.xlabel('Smarts')\n",
    "plt.ylabel('Probability')\n",
    "plt.title('Histogram of IQ')\n",
    "plt.xticks(bins)\n",
    "plt.ylim(-0.4, 1.5)\n",
    "plt.grid(True)\n",
    "plt.show()"
   ]
  },
  {
   "cell_type": "code",
   "execution_count": 172,
   "metadata": {},
   "outputs": [
    {
     "data": {
      "image/png": "[encoded data removed]",
      "text/plain": [
       "<Figure size 432x288 with 1 Axes>"
      ]
     },
     "metadata": {
      "needs_background": "light"
     },
     "output_type": "display_data"
    }
   ],
   "source": [
    "import numpy as np\n",
    "import matplotlib.pyplot as plt\n",
    "\n",
    "x = np.arange(15)\n",
    "# the histogram of the data\n",
    " # color is applied if passed input has multiple data sets\n",
    "n, bins, patches = plt.hist(x, 9,  facecolor='g', alpha=0.75 ,  histtype='step', color='r', rwidth=0.7, align='left')\n",
    "#align : {'left', 'mid', 'right'}, optional\n",
    "#histtype : {'bar', 'barstacked', 'step', 'stepfilled'}, optional\n",
    "plt.xlabel('Smarts')\n",
    "plt.ylabel('Probability')\n",
    "plt.title('Histogram of IQ')\n",
    "plt.xticks(bins)\n",
    "plt.grid(True)\n",
    "plt.show()"
   ]
  },
  {
   "cell_type": "code",
   "execution_count": 167,
   "metadata": {},
   "outputs": [
    {
     "data": {
      "text/plain": [
       "array([ 0.        ,  1.55555556,  3.11111111,  4.66666667,  6.22222222,\n",
       "        7.77777778,  9.33333333, 10.88888889, 12.44444444, 14.        ])"
      ]
     },
     "execution_count": 167,
     "metadata": {},
     "output_type": "execute_result"
    }
   ],
   "source": [
    "bins"
   ]
  },
  {
   "cell_type": "markdown",
   "metadata": {},
   "source": [
    "##### Demo of the histogram (hist) function with a few features"
   ]
  },
  {
   "cell_type": "markdown",
   "metadata": {},
   "source": [
    "In addition to the basic histogram, this demo shows a few optional features:\n",
    "\n",
    "1. Setting the number of data bins.\n",
    "2. The normed flag, which normalizes bin heights so that the integral of the histogram is 1. The resulting histogram is an approximation of the probability density function.\n",
    "3. Setting the face color of the bars.\n",
    "4. Setting the opacity (alpha value).\n",
    "\n",
    "Selecting different bin counts and sizes can significantly affect the shape of a histogram. The Astropy docs have a great section on how to select these parameters."
   ]
  },
  {
   "cell_type": "code",
   "execution_count": 173,
   "metadata": {},
   "outputs": [
    {
     "data": {
      "image/png": "[encoded data removed]",
      "text/plain": [
       "<Figure size 432x288 with 1 Axes>"
      ]
     },
     "metadata": {
      "needs_background": "light"
     },
     "output_type": "display_data"
    }
   ],
   "source": [
    "import matplotlib\n",
    "import numpy as np\n",
    "import matplotlib.pyplot as plt\n",
    "\n",
    "np.random.seed(19680801)\n",
    "\n",
    "# example data\n",
    "mu = 100  # mean of distribution\n",
    "sigma = 15  # standard deviation of distribution\n",
    "x = mu + sigma * np.random.randn(437)\n",
    "\n",
    "num_bins = 50\n",
    "\n",
    "fig, ax = plt.subplots()\n",
    "\n",
    "# the histogram of the data\n",
    "n, bins, patches = ax.hist(x, num_bins, density=1)\n",
    "\n",
    "# add a 'best fit' line\n",
    "y = ((1 / (np.sqrt(2 * np.pi) * sigma)) *\n",
    "     np.exp(-0.5 * (1 / sigma * (bins - mu))**2))\n",
    "ax.plot(bins, y, '--')\n",
    "ax.set_xlabel('Smarts')\n",
    "ax.set_ylabel('Probability density')\n",
    "ax.set_title(r'Histogram of IQ: $\\mu=100$, $\\sigma=15$')\n",
    "\n",
    "# Tweak spacing to prevent clipping of ylabel\n",
    "fig.tight_layout()\n",
    "plt.show()"
   ]
  },
  {
   "cell_type": "code",
   "execution_count": null,
   "metadata": {},
   "outputs": [],
   "source": []
  }
 ],
 "metadata": {
  "kernelspec": {
   "display_name": "Python 3",
   "language": "python",
   "name": "python3"
  },
  "language_info": {
   "codemirror_mode": {
    "name": "ipython",
    "version": 3
   },
   "file_extension": ".py",
   "mimetype": "text/x-python",
   "name": "python",
   "nbconvert_exporter": "python",
   "pygments_lexer": "ipython3",
   "version": "3.7.1"
  }
 },
 "nbformat": 4,
 "nbformat_minor": 2
}
