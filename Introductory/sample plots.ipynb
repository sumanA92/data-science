{
 "cells": [
  {
   "cell_type": "markdown",
   "metadata": {},
   "source": [
    "### Line Plot"
   ]
  },
  {
   "cell_type": "markdown",
   "metadata": {},
   "source": [
    "### matplotlib.pyplot.plot(*args, scalex=True, scaley=True, data=None, **kwargs)\n",
    "Plot y versus x as lines and/or markers.\n",
    "###### Parameters:\n",
    "1. x, y : array-like or scalar\n",
    "2. fmt : str, optional\n",
    "3. data : indexable object, optional\n",
    "\n",
    "###### Returns:\t- lines - A list of Line2D objects representing the plotted data.\n",
    "\n",
    "##### Other Parameters:\n",
    "1. scalex, scaley : bool, optional, default: True - These parameters determined if the view limits are adapted to the data limits. The values are passed on to autoscale_view.\n",
    "2. **kwargs : Line2D properties, optional\n",
    "\n",
    "kwargs are used to specify properties like a line label (for auto legends), linewidth, antialiasing, marker face color. Example: \n",
    "\n",
    "plot([1,2,3], [1,2,3], 'go-', label='line 1', linewidth=2)\n",
    "\n",
    "If you make multiple lines with one plot command, the kwargs apply to all those lines.Here is a list of available Line2D properties:\n",
    "\n",
    "\tProperty\t\t\t\t\t\tDescription\n",
    "\tagg_filter\t\t\t\t\t\ta filter function, which takes a (m, n, 3) float array and a dpi value, and returns a (m, n, 3) array\n",
    "\talpha\t\t\t\t\t\t\tfloat\n",
    "\tanimated\t\t\t\t\t\tbool\n",
    "\tantialiased or aa\t\t\t\tbool\n",
    "\tclip_box\t\t\t\t\t\tBbox\n",
    "\tclip_on\t\t\t\t\t\t\tbool\n",
    "\tclip_path\t\t\t\t\t\t[(Path, Transform) | Patch | None]\n",
    "\tcolor or c\t\t\t\t\t\tcolor\n",
    "\tcontains\t\t\t\t\t\tcallable\n",
    "\tdash_capstyle\t\t\t\t\t{'butt', 'round', 'projecting'}\n",
    "\tdash_joinstyle\t\t\t\t\t{'miter', 'round', 'bevel'}\n",
    "\tdashes\t\t\t\t\t\t\tsequence of floats (on/off ink in points) or (None, None)\n",
    "\tdrawstyle or ds\t\t\t\t\t{'default', 'steps', 'steps-pre', 'steps-mid', 'steps-post'}, default: 'default'\n",
    "\tfigure\t\t\t\t\t\t\tFigure\n",
    "\tfillstyle\t\t\t\t\t\t{'full', 'left', 'right', 'bottom', 'top', 'none'}\n",
    "\tgid\t\t\t\t\t\t\t\tstr\n",
    "\tin_layout\t\t\t\t\t\tbool\n",
    "\tlabel\t\t\t\t\t\t\tobject\n",
    "\tlinestyle or ls\t\t\t\t\t{'-', '--', '-.', ':', '', (offset, on-off-seq), ...}\n",
    "\tlinewidth or lw\t\t\t\t\tfloat\n",
    "\tmarker\t\t\t\t\t\t\tmarker style\n",
    "\tmarkeredgecolor or mec\t\t\tcolor\n",
    "\tmarkeredgewidth or mew\t\t\tfloat\n",
    "\tmarkerfacecolor or mfc\t\t\tcolor\n",
    "\tmarkerfacecoloralt or mfcalt\tcolor\n",
    "\tmarkersize or ms\t\t\t\tfloat\n",
    "\tmarkevery\t\t\t\t\t\tNone or int or (int, int) or slice or List[int] or float or (float, float)\n",
    "\tpath_effects\t\t\t\t\tAbstractPathEffect\n",
    "\tpicker\t\t\t\t\t\t\tfloat or callable[[Artist, Event], Tuple[bool, dict]]\n",
    "\tpickradius\t\t\t\t\t\tfloat\n",
    "\trasterized\t\t\t\t\t\tbool or None\n",
    "\tsketch_params\t\t\t\t\t(scale: float, length: float, randomness: float)\n",
    "\tsnap\t\t\t\t\t\t\tbool or None\n",
    "\tsolid_capstyle\t\t\t\t\t{'butt', 'round', 'projecting'}\n",
    "\tsolid_joinstyle\t\t\t\t\t{'miter', 'round', 'bevel'}\n",
    "\ttransform\t\t\t\t\t\tmatplotlib.transforms.Transform\n",
    "\turl\tstr\n",
    "\tvisible\t\t\t\t\t\t\tbool\n",
    "\txdata\t\t\t\t\t\t\t1D array\n",
    "\tydata\t\t\t\t\t\t\t1D array\n",
    "\tzorder\t\t\t\t\t\t\tfloat"
   ]
  },
  {
   "cell_type": "markdown",
   "metadata": {},
   "source": [
    "Call signatures:"
   ]
  },
  {
   "cell_type": "markdown",
   "metadata": {},
   "source": [
    "#### 1. plot([x], y, [fmt], *, data=None, **kwargs)\n",
    "#### 2. plot([x], y, [fmt], [x2], y2, [fmt2], ..., **kwargs)"
   ]
  },
  {
   "cell_type": "markdown",
   "metadata": {},
   "source": [
    "The coordinates of the points or line nodes are given by x, y."
   ]
  },
  {
   "cell_type": "markdown",
   "metadata": {},
   "source": [
    "The optional parameter __fmt__ is a convenient way for defining basic formatting like __color, marker and linestyle.__ It's a shortcut string notation described in the Notes section below."
   ]
  },
  {
   "cell_type": "markdown",
   "metadata": {},
   "source": [
    "##### plot(x, y)        # plot x and y using default line style and color\n",
    "\n",
    "##### plot(x, y, 'bo')  # plot x and y using blue circle markers\n",
    "\n",
    "##### plot(y)           # plot y using x as index array 0..N-1\n",
    "\n",
    "##### plot(y, 'r+')     # ditto, but with red plusses"
   ]
  },
  {
   "cell_type": "markdown",
   "metadata": {},
   "source": [
    "You can use Line2D properties as keyword arguments for more control on the appearance. __Line properties and fmt can be mixed.__"
   ]
  },
  {
   "cell_type": "markdown",
   "metadata": {},
   "source": [
    "##### plot(x, y, 'go--', linewidth=2, markersize=12)\n",
    "\n",
    "##### plot(x, y, color='green', marker='o', linestyle='dashed', linewidth=2, markersize=12)"
   ]
  },
  {
   "cell_type": "markdown",
   "metadata": {},
   "source": [
    "#### When conflicting with fmt, keyword arguments take precedence."
   ]
  },
  {
   "cell_type": "markdown",
   "metadata": {},
   "source": [
    "#### Plotting labelled data :::"
   ]
  },
  {
   "cell_type": "markdown",
   "metadata": {},
   "source": [
    "There's a convenient way for plotting objects with labelled data (i.e. data that can be accessed by index obj['y']). Instead of giving the data in x and y, you can provide the object in the data parameter and just give the labels for x and y:"
   ]
  },
  {
   "cell_type": "markdown",
   "metadata": {},
   "source": [
    "##### plot('xlabel', 'ylabel', data=obj)"
   ]
  },
  {
   "cell_type": "markdown",
   "metadata": {},
   "source": [
    "All indexable objects are supported. This could e.g. be a dict, a pandas.DataFame or a structured numpy array."
   ]
  },
  {
   "cell_type": "markdown",
   "metadata": {},
   "source": [
    "#### Plotting multiple sets of data :::"
   ]
  },
  {
   "cell_type": "markdown",
   "metadata": {},
   "source": [
    "There are various ways to plot multiple sets of data."
   ]
  },
  {
   "cell_type": "markdown",
   "metadata": {},
   "source": [
    "1. The most straight forward way is just to call plot multiple times. Example:\n",
    "##### plot(x1, y1, 'bo')\n",
    "##### plot(x2, y2, 'go')"
   ]
  },
  {
   "cell_type": "markdown",
   "metadata": {},
   "source": [
    "2. Alternatively, if your data is already a 2d array, you can pass it directly to x, y. A separate data set will be drawn for every column.\n",
    "\n",
    "   ##### Example: an array a where the first column represents the x values and the other columns are the y columns:\n",
    "   ##### plot(a[0], a[1:])"
   ]
  },
  {
   "cell_type": "markdown",
   "metadata": {},
   "source": [
    "3. The third way is to specify multiple sets of [x], y, [fmt] groups:\n",
    "##### plot(x1, y1, 'g^', x2, y2, 'g-')\n",
    "##### In this case, any additional keyword argument applies to all datasets. Also this syntax cannot be combined with the data parameter."
   ]
  },
  {
   "cell_type": "markdown",
   "metadata": {},
   "source": [
    "By default, each line is assigned a different style specified by a 'style cycle'. The fmt and line property parameters are only necessary if you want explicit deviations from these defaults. Alternatively, you can also change the style cycle using the 'axes.prop_cycle' rcParam."
   ]
  },
  {
   "cell_type": "markdown",
   "metadata": {},
   "source": [
    "#### Format Strings"
   ]
  },
  {
   "cell_type": "markdown",
   "metadata": {},
   "source": [
    "##### fmt = '[marker][line][color]'\n",
    "\n",
    "Each of them is optional. If not provided, the value from the style cycle is used. Exception: If line is given, but no marker, the data will be a line without markers.\n",
    "\n",
    "##### Other combinations such as [color][marker][line] are also supported, but note that their parsing may be ambiguous."
   ]
  },
  {
   "cell_type": "code",
   "execution_count": null,
   "metadata": {},
   "outputs": [],
   "source": []
  }
 ],
 "metadata": {
  "kernelspec": {
   "display_name": "Python 3",
   "language": "python",
   "name": "python3"
  },
  "language_info": {
   "codemirror_mode": {
    "name": "ipython",
    "version": 3
   },
   "file_extension": ".py",
   "mimetype": "text/x-python",
   "name": "python",
   "nbconvert_exporter": "python",
   "pygments_lexer": "ipython3",
   "version": "3.7.1"
  }
 },
 "nbformat": 4,
 "nbformat_minor": 2
}
