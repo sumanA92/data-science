{
 "cells": [
  {
   "cell_type": "markdown",
   "metadata": {},
   "source": [
    "## matplotlib.pyplot.barh"
   ]
  },
  {
   "cell_type": "markdown",
   "metadata": {},
   "source": [
    "#### matplotlib.pyplot.barh(y, width, height=0.8, left=None, *, align='center', **kwargs)"
   ]
  },
  {
   "cell_type": "markdown",
   "metadata": {},
   "source": [
    "Make a horizontal bar plot.\n",
    "\n",
    "The bars are positioned at y with the given alignment. Their dimensions are given by width and height. The horizontal baseline is left (default 0).\n",
    "\n",
    "Each of y, width, height, and left may either be a scalar applying to all bars, or it may be a sequence of length N providing a separate value for each bar."
   ]
  },
  {
   "cell_type": "markdown",
   "metadata": {},
   "source": [
    "Parameters:\t\n",
    "y : scalar or array-like\n",
    "The y coordinates of the bars. See also align for the alignment of the bars to the coordinates.\n",
    "\n",
    "width : scalar or array-like\n",
    "The width(s) of the bars.\n",
    "\n",
    "height : sequence of scalars, optional, default: 0.8\n",
    "The heights of the bars.\n",
    "\n",
    "left : sequence of scalars\n",
    "The x coordinates of the left sides of the bars (default: 0).\n",
    "\n",
    "align : {'center', 'edge'}, optional, default: 'center'\n",
    "Alignment of the base to the y coordinates*:\n",
    "\n",
    "'center': Center the bars on the y positions.\n",
    "'edge': Align the bottom edges of the bars with the y positions.\n",
    "To align the bars on the top edge pass a negative height and align='edge'.\n",
    "\n",
    "Returns:\t\n",
    "container : BarContainer\n",
    "Container with all the bars and optionally errorbars.\n",
    "\n",
    "Other Parameters:\t\n",
    "color : scalar or array-like, optional\n",
    "The colors of the bar faces.\n",
    "\n",
    "edgecolor : scalar or array-like, optional\n",
    "The colors of the bar edges.\n",
    "\n",
    "linewidth : scalar or array-like, optional\n",
    "Width of the bar edge(s). If 0, don't draw edges.\n",
    "\n",
    "tick_label : string or array-like, optional\n",
    "The tick labels of the bars. Default: None (Use default numeric labels.)\n",
    "\n",
    "xerr, yerr : scalar or array-like of shape(N,) or shape(2,N), optional\n",
    "If not None, add horizontal / vertical errorbars to the bar tips. The values are +/- sizes relative to the data:\n",
    "\n",
    "scalar: symmetric +/- values for all bars\n",
    "shape(N,): symmetric +/- values for each bar\n",
    "shape(2,N): Separate - and + values for each bar. First row\n",
    "contains the lower errors, the second row contains the upper errors.\n",
    "None: No errorbar. (default)\n",
    "See Different ways of specifying error bars for an example on the usage of xerr and yerr.\n",
    "\n",
    "ecolor : scalar or array-like, optional, default: 'black'\n",
    "The line color of the errorbars.\n",
    "\n",
    "capsize : scalar, optional\n",
    "The length of the error bar caps in points. Default: None, which will take the value from rcParams[\"errorbar.capsize\"].\n",
    "\n",
    "error_kw : dict, optional\n",
    "Dictionary of kwargs to be passed to the errorbar method. Values of ecolor or capsize defined here take precedence over the independent kwargs.\n",
    "\n",
    "log : bool, optional, default: False\n",
    "If True, set the x-axis to be log scale."
   ]
  },
  {
   "cell_type": "markdown",
   "metadata": {},
   "source": [
    "#### Discrete distribution as horizontal bar chart"
   ]
  },
  {
   "cell_type": "markdown",
   "metadata": {},
   "source": [
    "Stacked bar charts can be used to visualize discrete distributions.\n",
    "\n",
    "This example visualizes the result of a survey in which people could rate their agreement to questions on a five-element scale."
   ]
  },
  {
   "cell_type": "code",
   "execution_count": 6,
   "metadata": {},
   "outputs": [
    {
     "data": {
      "text/plain": [
       "(<Figure size 662.4x360 with 1 Axes>,\n",
       " <matplotlib.axes._subplots.AxesSubplot at 0x1cf94cb7c50>)"
      ]
     },
     "execution_count": 6,
     "metadata": {},
     "output_type": "execute_result"
    },
    {
     "data": {
      "image/png": "[encoded data removed]",
      "text/plain": [
       "<Figure size 662.4x360 with 1 Axes>"
      ]
     },
     "metadata": {
      "needs_background": "light"
     },
     "output_type": "display_data"
    }
   ],
   "source": [
    "import numpy as np\n",
    "import matplotlib.pyplot as plt\n",
    "\n",
    "\n",
    "category_names = ['Strongly disagree', 'Disagree',\n",
    "                  'Neither agree nor disagree', 'Agree', 'Strongly agree']\n",
    "results = {\n",
    "    'Question 1': [10, 15, 17, 32, 26],\n",
    "    'Question 2': [26, 22, 29, 10, 13],\n",
    "    'Question 3': [35, 37, 7, 2, 19],\n",
    "    'Question 4': [32, 11, 9, 15, 33],\n",
    "    'Question 5': [21, 29, 5, 5, 40],\n",
    "    'Question 6': [8, 19, 5, 30, 38]\n",
    "}\n",
    "\n",
    "\n",
    "def survey(results, category_names):\n",
    "    \"\"\"\n",
    "    Parameters\n",
    "    ----------\n",
    "    results : dict\n",
    "        A mapping from question labels to a list of answers per category.\n",
    "        It is assumed all lists contain the same number of entries and that\n",
    "        it matches the length of *category_names*.\n",
    "    category_names : list of str\n",
    "        The category labels.\n",
    "    \"\"\"\n",
    "    labels = list(results.keys())\n",
    "    data = np.array(list(results.values()))\n",
    "    data_cum = data.cumsum(axis=1)\n",
    "    category_colors = plt.get_cmap('RdYlGn')(\n",
    "        np.linspace(0.15, 0.85, data.shape[1]))\n",
    "\n",
    "    fig, ax = plt.subplots(figsize=(9.2, 5))\n",
    "    ax.invert_yaxis()\n",
    "    ax.xaxis.set_visible(False)\n",
    "    ax.set_xlim(0, np.sum(data, axis=1).max())\n",
    "\n",
    "    for i, (colname, color) in enumerate(zip(category_names, category_colors)):\n",
    "        widths = data[:, i]\n",
    "        starts = data_cum[:, i] - widths\n",
    "        ax.barh(labels, widths, left=starts, height=0.5,\n",
    "                label=colname, color=color)\n",
    "        xcenters = starts + widths / 2\n",
    "\n",
    "        r, g, b, _ = color\n",
    "        text_color = 'white' if r * g * b < 0.5 else 'darkgrey'\n",
    "        for y, (x, c) in enumerate(zip(xcenters, widths)):\n",
    "            ax.text(x, y, str(int(c)), ha='center', va='center',\n",
    "                    color=text_color)\n",
    "    ax.legend(ncol=len(category_names), bbox_to_anchor=(0, 1),\n",
    "              loc='lower left', fontsize='small')\n",
    "\n",
    "    return fig, ax\n",
    "\n",
    "\n",
    "survey(results, category_names)"
   ]
  },
  {
   "cell_type": "code",
   "execution_count": null,
   "metadata": {},
   "outputs": [],
   "source": []
  }
 ],
 "metadata": {
  "kernelspec": {
   "display_name": "Python 3",
   "language": "python",
   "name": "python3"
  },
  "language_info": {
   "codemirror_mode": {
    "name": "ipython",
    "version": 3
   },
   "file_extension": ".py",
   "mimetype": "text/x-python",
   "name": "python",
   "nbconvert_exporter": "python",
   "pygments_lexer": "ipython3",
   "version": "3.7.1"
  }
 },
 "nbformat": 4,
 "nbformat_minor": 2
}
