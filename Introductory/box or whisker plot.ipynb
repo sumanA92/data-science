{
 "cells": [
  {
   "cell_type": "markdown",
   "metadata": {},
   "source": [
    "## matplotlib.pyplot.boxplot"
   ]
  },
  {
   "cell_type": "markdown",
   "metadata": {},
   "source": [
    "#### matplotlib.pyplot.boxplot(x, notch=None, sym=None, vert=None, whis=None, positions=None, widths=None, patch_artist=None, bootstrap=None, usermedians=None, conf_intervals=None, meanline=None, showmeans=None, showcaps=None, showbox=None, showfliers=None, boxprops=None, labels=None, flierprops=None, medianprops=None, meanprops=None, capprops=None, whiskerprops=None, manage_ticks=True, autorange=False, zorder=None, *, data=None)"
   ]
  },
  {
   "cell_type": "markdown",
   "metadata": {},
   "source": [
    "Make a box and whisker plot.\n",
    "\n",
    "Make a box and whisker plot for each column of x or each vector in sequence x. The box extends from the lower to upper quartile values of the data, with a line at the median. The whiskers extend from the box to show the range of the data. Flier points are those past the end of the whiskers."
   ]
  },
  {
   "cell_type": "markdown",
   "metadata": {},
   "source": [
    "#### Parameters:\t\n",
    "x : Array or a sequence of vectors.\n",
    "The input data.\n",
    "\n",
    "notch : bool, optional (False)\n",
    "If True, will produce a notched box plot. Otherwise, a rectangular boxplot is produced. The notches represent the confidence interval (CI) around the median. See the entry for the bootstrap parameter for information regarding how the locations of the notches are computed.\n",
    "\n",
    "Note\n",
    "\n",
    "In cases where the values of the CI are less than the lower quartile or greater than the upper quartile, the notches will extend beyond the box, giving it a distinctive \"flipped\" appearance. This is expected behavior and consistent with other statistical visualization packages.\n",
    "\n",
    "sym : str, optional\n",
    "The default symbol for flier points. Enter an empty string ('') if you don't want to show fliers. If None, then the fliers default to 'b+' If you want more control use the flierprops kwarg.\n",
    "\n",
    "vert : bool, optional (True)\n",
    "If True (default), makes the boxes vertical. If False, everything is drawn horizontally.\n",
    "\n",
    "whis : float, sequence, or string (default = 1.5)\n",
    "As a float, determines the reach of the whiskers to the beyond the first and third quartiles. In other words, where IQR is the interquartile range (Q3-Q1), the upper whisker will extend to last datum less than Q3 + whis*IQR). Similarly, the lower whisker will extend to the first datum greater than Q1 - whis*IQR. Beyond the whiskers, data are considered outliers and are plotted as individual points. Set this to an unreasonably high value to force the whiskers to show the min and max values. Alternatively, set this to an ascending sequence of percentile (e.g., [5, 95]) to set the whiskers at specific percentiles of the data. Finally, whis can be the string 'range' to force the whiskers to the min and max of the data.\n",
    "\n",
    "bootstrap : int, optional\n",
    "Specifies whether to bootstrap the confidence intervals around the median for notched boxplots. If bootstrap is None, no bootstrapping is performed, and notches are calculated using a Gaussian-based asymptotic approximation (see McGill, R., Tukey, J.W., and Larsen, W.A., 1978, and Kendall and Stuart, 1967). Otherwise, bootstrap specifies the number of times to bootstrap the median to determine its 95% confidence intervals. Values between 1000 and 10000 are recommended.\n",
    "\n",
    "usermedians : array-like, optional\n",
    "An array or sequence whose first dimension (or length) is compatible with x. This overrides the medians computed by matplotlib for each element of usermedians that is not None. When an element of usermedians is None, the median will be computed by matplotlib as normal.\n",
    "\n",
    "conf_intervals : array-like, optional\n",
    "Array or sequence whose first dimension (or length) is compatible with x and whose second dimension is 2. When the an element of conf_intervals is not None, the notch locations computed by matplotlib are overridden (provided notch is True). When an element of conf_intervals is None, the notches are computed by the method specified by the other kwargs (e.g., bootstrap).\n",
    "\n",
    "positions : array-like, optional\n",
    "Sets the positions of the boxes. The ticks and limits are automatically set to match the positions. Defaults to range(1, N+1) where N is the number of boxes to be drawn.\n",
    "\n",
    "widths : scalar or array-like\n",
    "Sets the width of each box either with a scalar or a sequence. The default is 0.5, or 0.15*(distance between extreme positions), if that is smaller.\n",
    "\n",
    "patch_artist : bool, optional (False)\n",
    "If False produces boxes with the Line2D artist. Otherwise, boxes and drawn with Patch artists.\n",
    "\n",
    "labels : sequence, optional\n",
    "Labels for each dataset. Length must be compatible with dimensions of x.\n",
    "\n",
    "manage_ticks : bool, optional (True)\n",
    "If True, the tick locations and labels will be adjusted to match the boxplot positions.\n",
    "\n",
    "autorange : bool, optional (False)\n",
    "When True and the data are distributed such that the 25th and 75th percentiles are equal, whis is set to 'range' such that the whisker ends are at the minimum and maximum of the data.\n",
    "\n",
    "meanline : bool, optional (False)\n",
    "If True (and showmeans is True), will try to render the mean as a line spanning the full width of the box according to meanprops (see below). Not recommended if shownotches is also True. Otherwise, means will be shown as points.\n",
    "\n",
    "zorder : scalar, optional (None)\n",
    "Sets the zorder of the boxplot.\n",
    "\n",
    "#### Returns:\t\n",
    "result : dict\n",
    "A dictionary mapping each component of the boxplot to a list of the matplotlib.lines.Line2D instances created. That dictionary has the following keys (assuming vertical boxplots):\n",
    "\n",
    "1. boxes: the main body of the boxplot showing the quartiles and the median's confidence intervals if enabled.\n",
    "2. medians: horizontal lines at the median of each box.\n",
    "3. whiskers: the vertical lines extending to the most extreme, non-outlier data points.\n",
    "4. caps: the horizontal lines at the ends of the whiskers.\n",
    "5. fliers: points representing data that extend beyond the whiskers (fliers).\n",
    "6. means: points or lines representing the means.\n",
    "\n",
    "#### Other Parameters:\t\n",
    "showcaps : bool, optional (True)\n",
    "Show the caps on the ends of whiskers.\n",
    "\n",
    "showbox : bool, optional (True)\n",
    "Show the central box.\n",
    "\n",
    "showfliers : bool, optional (True)\n",
    "Show the outliers beyond the caps.\n",
    "\n",
    "showmeans : bool, optional (False)\n",
    "Show the arithmetic means.\n",
    "\n",
    "capprops : dict, optional (None)\n",
    "Specifies the style of the caps.\n",
    "\n",
    "boxprops : dict, optional (None)\n",
    "Specifies the style of the box.\n",
    "\n",
    "whiskerprops : dict, optional (None)\n",
    "Specifies the style of the whiskers.\n",
    "\n",
    "flierprops : dict, optional (None)\n",
    "Specifies the style of the fliers.\n",
    "\n",
    "medianprops : dict, optional (None)\n",
    "Specifies the style of the median.\n",
    "\n",
    "meanprops : dict, optional (None)\n",
    "Specifies the style of the mean."
   ]
  },
  {
   "cell_type": "code",
   "execution_count": 15,
   "metadata": {},
   "outputs": [],
   "source": [
    "import numpy as np\n",
    "import matplotlib.pyplot as plt\n",
    "\n",
    "# Fixing random state for reproducibility\n",
    "np.random.seed(19680801)\n",
    "\n",
    "# fake up some data\n",
    "spread = np.random.rand(50) * 100\n",
    "center = np.ones(25) * 50\n",
    "flier_high = np.random.rand(10) * 100 + 100\n",
    "flier_low = np.random.rand(10) * -100\n",
    "data = np.concatenate((spread, center, flier_high, flier_low))"
   ]
  },
  {
   "cell_type": "code",
   "execution_count": 16,
   "metadata": {},
   "outputs": [
    {
     "data": {
      "text/plain": [
       "{'whiskers': [<matplotlib.lines.Line2D at 0x19245971ac8>,\n",
       "  <matplotlib.lines.Line2D at 0x19245971e10>],\n",
       " 'caps': [<matplotlib.lines.Line2D at 0x1924597b198>,\n",
       "  <matplotlib.lines.Line2D at 0x1924597b4e0>],\n",
       " 'boxes': [<matplotlib.lines.Line2D at 0x19245971978>],\n",
       " 'medians': [<matplotlib.lines.Line2D at 0x1924597b828>],\n",
       " 'fliers': [<matplotlib.lines.Line2D at 0x1924597bb70>],\n",
       " 'means': []}"
      ]
     },
     "execution_count": 16,
     "metadata": {},
     "output_type": "execute_result"
    },
    {
     "data": {
      "image/png": "[encoded data removed]",
      "text/plain": [
       "<Figure size 432x288 with 1 Axes>"
      ]
     },
     "metadata": {
      "needs_background": "light"
     },
     "output_type": "display_data"
    }
   ],
   "source": [
    "fig1, ax1 = plt.subplots()\n",
    "ax1.set_title('Basic Plot')\n",
    "ax1.boxplot(data)"
   ]
  },
  {
   "cell_type": "code",
   "execution_count": 17,
   "metadata": {},
   "outputs": [
    {
     "data": {
      "text/plain": [
       "{'whiskers': [<matplotlib.lines.Line2D at 0x192459cb630>,\n",
       "  <matplotlib.lines.Line2D at 0x192459cb978>],\n",
       " 'caps': [],\n",
       " 'boxes': [<matplotlib.lines.Line2D at 0x192459cb4e0>],\n",
       " 'medians': [<matplotlib.lines.Line2D at 0x192459cbcc0>],\n",
       " 'fliers': [<matplotlib.lines.Line2D at 0x192459d6048>],\n",
       " 'means': []}"
      ]
     },
     "execution_count": 17,
     "metadata": {},
     "output_type": "execute_result"
    },
    {
     "data": {
      "image/png": "[encoded data removed]",
      "text/plain": [
       "<Figure size 432x288 with 1 Axes>"
      ]
     },
     "metadata": {
      "needs_background": "light"
     },
     "output_type": "display_data"
    }
   ],
   "source": [
    "fig2, ax2 = plt.subplots()\n",
    "ax2.set_title('Notched boxes- Hide caps')\n",
    "ax2.boxplot(data, notch=True, showcaps=False)"
   ]
  },
  {
   "cell_type": "code",
   "execution_count": 4,
   "metadata": {},
   "outputs": [
    {
     "data": {
      "text/plain": [
       "{'whiskers': [<matplotlib.lines.Line2D at 0x192451af3c8>,\n",
       "  <matplotlib.lines.Line2D at 0x192451af710>],\n",
       " 'caps': [<matplotlib.lines.Line2D at 0x192451afa58>,\n",
       "  <matplotlib.lines.Line2D at 0x192451afda0>],\n",
       " 'boxes': [<matplotlib.lines.Line2D at 0x192451af278>],\n",
       " 'medians': [<matplotlib.lines.Line2D at 0x192451b6128>],\n",
       " 'fliers': [<matplotlib.lines.Line2D at 0x192451b6470>],\n",
       " 'means': []}"
      ]
     },
     "execution_count": 4,
     "metadata": {},
     "output_type": "execute_result"
    },
    {
     "data": {
      "image/png": "[encoded data removed]",
      "text/plain": [
       "<Figure size 432x288 with 1 Axes>"
      ]
     },
     "metadata": {
      "needs_background": "light"
     },
     "output_type": "display_data"
    }
   ],
   "source": [
    "green_diamond = dict(markerfacecolor='g', marker='D')\n",
    "fig3, ax3 = plt.subplots()\n",
    "ax3.set_title('Changed Outlier Symbols')\n",
    "ax3.boxplot(data, flierprops=green_diamond)"
   ]
  },
  {
   "cell_type": "code",
   "execution_count": 5,
   "metadata": {},
   "outputs": [
    {
     "data": {
      "text/plain": [
       "{'whiskers': [<matplotlib.lines.Line2D at 0x19245210208>,\n",
       "  <matplotlib.lines.Line2D at 0x19245210550>],\n",
       " 'caps': [<matplotlib.lines.Line2D at 0x19245210898>,\n",
       "  <matplotlib.lines.Line2D at 0x19245210be0>],\n",
       " 'boxes': [<matplotlib.lines.Line2D at 0x192452100b8>],\n",
       " 'medians': [<matplotlib.lines.Line2D at 0x19245210f28>],\n",
       " 'fliers': [],\n",
       " 'means': []}"
      ]
     },
     "execution_count": 5,
     "metadata": {},
     "output_type": "execute_result"
    },
    {
     "data": {
      "image/png": "[encoded data removed]",
      "text/plain": [
       "<Figure size 432x288 with 1 Axes>"
      ]
     },
     "metadata": {
      "needs_background": "light"
     },
     "output_type": "display_data"
    }
   ],
   "source": [
    "fig4, ax4 = plt.subplots()\n",
    "ax4.set_title('Hide Outlier Points')\n",
    "ax4.boxplot(data, showfliers=False)"
   ]
  },
  {
   "cell_type": "code",
   "execution_count": 6,
   "metadata": {},
   "outputs": [
    {
     "data": {
      "text/plain": [
       "{'whiskers': [<matplotlib.lines.Line2D at 0x19245266c50>,\n",
       "  <matplotlib.lines.Line2D at 0x19245266f98>],\n",
       " 'caps': [<matplotlib.lines.Line2D at 0x1924526d320>,\n",
       "  <matplotlib.lines.Line2D at 0x1924526d668>],\n",
       " 'boxes': [<matplotlib.lines.Line2D at 0x19245266b00>],\n",
       " 'medians': [<matplotlib.lines.Line2D at 0x1924526d9b0>],\n",
       " 'fliers': [<matplotlib.lines.Line2D at 0x1924526dcf8>],\n",
       " 'means': []}"
      ]
     },
     "execution_count": 6,
     "metadata": {},
     "output_type": "execute_result"
    },
    {
     "data": {
      "image/png": "[encoded data removed]",
      "text/plain": [
       "<Figure size 432x288 with 1 Axes>"
      ]
     },
     "metadata": {
      "needs_background": "light"
     },
     "output_type": "display_data"
    }
   ],
   "source": [
    "red_square = dict(markerfacecolor='r', marker='s')\n",
    "fig5, ax5 = plt.subplots()\n",
    "ax5.set_title('Horizontal Boxes')\n",
    "ax5.boxplot(data, vert=False, flierprops=red_square)"
   ]
  },
  {
   "cell_type": "code",
   "execution_count": 35,
   "metadata": {},
   "outputs": [
    {
     "data": {
      "text/plain": [
       "{'whiskers': [<matplotlib.lines.Line2D at 0x19246e7a0f0>,\n",
       "  <matplotlib.lines.Line2D at 0x19246e7a438>],\n",
       " 'caps': [<matplotlib.lines.Line2D at 0x19246e7a780>,\n",
       "  <matplotlib.lines.Line2D at 0x19246e7aac8>],\n",
       " 'boxes': [<matplotlib.lines.Line2D at 0x19246e72f60>],\n",
       " 'medians': [<matplotlib.lines.Line2D at 0x19246e7ae10>],\n",
       " 'fliers': [<matplotlib.lines.Line2D at 0x19246e85198>],\n",
       " 'means': []}"
      ]
     },
     "execution_count": 35,
     "metadata": {},
     "output_type": "execute_result"
    },
    {
     "data": {
      "image/png": "[encoded data removed]",
      "text/plain": [
       "<Figure size 432x288 with 1 Axes>"
      ]
     },
     "metadata": {
      "needs_background": "light"
     },
     "output_type": "display_data"
    }
   ],
   "source": [
    "fig6, ax6 = plt.subplots()\n",
    "ax6.set_title('Shorter Whisker Length')\n",
    "ax6.boxplot(data, flierprops=red_square, vert=False, whis=0.75) #default whis=1.5"
   ]
  },
  {
   "cell_type": "code",
   "execution_count": 36,
   "metadata": {},
   "outputs": [
    {
     "data": {
      "text/plain": [
       "{'whiskers': [<matplotlib.lines.Line2D at 0x19246ecbef0>,\n",
       "  <matplotlib.lines.Line2D at 0x19246ed5278>],\n",
       " 'caps': [<matplotlib.lines.Line2D at 0x19246ed55c0>,\n",
       "  <matplotlib.lines.Line2D at 0x19246ed5908>],\n",
       " 'boxes': [<matplotlib.lines.Line2D at 0x19246ecbda0>],\n",
       " 'medians': [<matplotlib.lines.Line2D at 0x19246ed5c50>],\n",
       " 'fliers': [<matplotlib.lines.Line2D at 0x19246ed5f98>],\n",
       " 'means': []}"
      ]
     },
     "execution_count": 36,
     "metadata": {},
     "output_type": "execute_result"
    },
    {
     "data": {
      "image/png": "[encoded data removed]",
      "text/plain": [
       "<Figure size 432x288 with 1 Axes>"
      ]
     },
     "metadata": {
      "needs_background": "light"
     },
     "output_type": "display_data"
    }
   ],
   "source": [
    "fig6, ax6 = plt.subplots()\n",
    "ax6.set_title('Shorter Whisker Length')\n",
    "ax6.boxplot(data, flierprops=red_square, vert=False, whis=0.75 , autorange=True)\n",
    "# for auto range=True and whis is set to 'range' such that the whisker ends are at the minimum and maximum of the data."
   ]
  },
  {
   "cell_type": "markdown",
   "metadata": {},
   "source": [
    "Fake up some more data"
   ]
  },
  {
   "cell_type": "code",
   "execution_count": 8,
   "metadata": {},
   "outputs": [],
   "source": [
    "spread = np.random.rand(50) * 100\n",
    "center = np.ones(25) * 40\n",
    "flier_high = np.random.rand(10) * 100 + 100\n",
    "flier_low = np.random.rand(10) * -100\n",
    "d2 = np.concatenate((spread, center, flier_high, flier_low))\n",
    "data.shape = (-1, 1)\n",
    "d2.shape = (-1, 1)"
   ]
  },
  {
   "cell_type": "markdown",
   "metadata": {},
   "source": [
    "Making a 2-D array only works if all the columns are the same length. If they are not, then use a list instead. This is actually more efficient because boxplot converts a 2-D array into a list of vectors internally anyway."
   ]
  },
  {
   "cell_type": "code",
   "execution_count": 9,
   "metadata": {},
   "outputs": [
    {
     "data": {
      "image/png": "[encoded data removed]",
      "text/plain": [
       "<Figure size 432x288 with 1 Axes>"
      ]
     },
     "metadata": {
      "needs_background": "light"
     },
     "output_type": "display_data"
    }
   ],
   "source": [
    "data = [data, d2, d2[::2,0]]\n",
    "fig7, ax7 = plt.subplots()\n",
    "ax7.set_title('Multiple Samples with Different sizes')\n",
    "ax7.boxplot(data)\n",
    "\n",
    "plt.show()"
   ]
  },
  {
   "cell_type": "code",
   "execution_count": 24,
   "metadata": {},
   "outputs": [
    {
     "data": {
      "text/plain": [
       "{'whiskers': [<matplotlib.lines.Line2D at 0x19246bb5f60>,\n",
       "  <matplotlib.lines.Line2D at 0x19246be2f60>],\n",
       " 'caps': [<matplotlib.lines.Line2D at 0x19246be23c8>,\n",
       "  <matplotlib.lines.Line2D at 0x19246be2c18>],\n",
       " 'boxes': [],\n",
       " 'medians': [<matplotlib.lines.Line2D at 0x19246a98f60>],\n",
       " 'fliers': [<matplotlib.lines.Line2D at 0x19246a98080>],\n",
       " 'means': []}"
      ]
     },
     "execution_count": 24,
     "metadata": {},
     "output_type": "execute_result"
    },
    {
     "data": {
      "image/png": "[encoded data removed]",
      "text/plain": [
       "<Figure size 432x288 with 1 Axes>"
      ]
     },
     "metadata": {
      "needs_background": "light"
     },
     "output_type": "display_data"
    }
   ],
   "source": [
    "fig2, ax2 = plt.subplots()\n",
    "ax2.set_title('Notched boxes')\n",
    "ax2.boxplot(data, notch=True, showbox=False,sym='rs')"
   ]
  },
  {
   "cell_type": "code",
   "execution_count": 50,
   "metadata": {},
   "outputs": [
    {
     "data": {
      "text/plain": [
       "{'whiskers': [<matplotlib.lines.Line2D at 0x1924705c9b0>,\n",
       "  <matplotlib.lines.Line2D at 0x1924705ccf8>],\n",
       " 'caps': [<matplotlib.lines.Line2D at 0x19247065080>,\n",
       "  <matplotlib.lines.Line2D at 0x192470653c8>],\n",
       " 'boxes': [<matplotlib.lines.Line2D at 0x1924705c860>],\n",
       " 'medians': [<matplotlib.lines.Line2D at 0x19247065710>],\n",
       " 'fliers': [],\n",
       " 'means': [<matplotlib.lines.Line2D at 0x19247065a58>]}"
      ]
     },
     "execution_count": 50,
     "metadata": {},
     "output_type": "execute_result"
    },
    {
     "data": {
      "image/png": "[encoded data removed]",
      "text/plain": [
       "<Figure size 432x288 with 1 Axes>"
      ]
     },
     "metadata": {
      "needs_background": "light"
     },
     "output_type": "display_data"
    }
   ],
   "source": [
    "fig2, ax2 = plt.subplots()\n",
    "ax2.set_title('Notched boxes')\n",
    "ax2.boxplot(data, notch=True,showmeans=True, sym='',  labels=['Box plot for'], autorange =True)"
   ]
  },
  {
   "cell_type": "code",
   "execution_count": 43,
   "metadata": {},
   "outputs": [
    {
     "data": {
      "image/png": "[encoded data removed]",
      "text/plain": [
       "<Figure size 432x288 with 1 Axes>"
      ]
     },
     "metadata": {
      "needs_background": "light"
     },
     "output_type": "display_data"
    }
   ],
   "source": [
    "fig2, ax2 = plt.subplots()\n",
    "ax2.set_title('Notched boxes')\n",
    "ax2.boxplot(data, notch=True,showmeans=True, meanline=True ,widths=0.4) \n",
    "# Not recommended if shownotches is also True. Otherwise, means will be shown as points.\n",
    "#The default width is 0.5, or 0.15*(distance between extreme positions), if that is smaller.\n",
    "plt.show()"
   ]
  },
  {
   "cell_type": "code",
   "execution_count": 51,
   "metadata": {},
   "outputs": [
    {
     "data": {
      "image/png": "[encoded data removed]",
      "text/plain": [
       "<Figure size 432x288 with 1 Axes>"
      ]
     },
     "metadata": {
      "needs_background": "light"
     },
     "output_type": "display_data"
    }
   ],
   "source": [
    "box_prop = dict(boxstyle='round')\n",
    "fig2, ax2 = plt.subplots()\n",
    "ax2.set_title('Notched boxes')\n",
    "ax2.boxplot(data, notch=True, patch_artist=True)# use Lind2D instances to draw box, patch_artist=False default\n",
    "plt.show()"
   ]
  },
  {
   "cell_type": "code",
   "execution_count": 52,
   "metadata": {},
   "outputs": [
    {
     "data": {
      "image/png": "[encoded data removed]",
      "text/plain": [
       "<Figure size 432x288 with 1 Axes>"
      ]
     },
     "metadata": {
      "needs_background": "light"
     },
     "output_type": "display_data"
    }
   ],
   "source": [
    "box_prop = dict(boxstyle='round')\n",
    "fig2, ax2 = plt.subplots()\n",
    "ax2.set_title('Notched boxes')\n",
    "bplot = ax2.boxplot(data, notch=True, patch_artist=True)# use Lind2D instances to draw box, patch_artist=False default\n",
    "\n",
    "color=['red']\n",
    "for patch, color in zip(bplot['boxes'], color):\n",
    "    patch.set_facecolor(color)\n",
    "plt.show()"
   ]
  },
  {
   "cell_type": "code",
   "execution_count": null,
   "metadata": {},
   "outputs": [],
   "source": []
  }
 ],
 "metadata": {
  "kernelspec": {
   "display_name": "Python 3",
   "language": "python",
   "name": "python3"
  },
  "language_info": {
   "codemirror_mode": {
    "name": "ipython",
    "version": 3
   },
   "file_extension": ".py",
   "mimetype": "text/x-python",
   "name": "python",
   "nbconvert_exporter": "python",
   "pygments_lexer": "ipython3",
   "version": "3.7.1"
  }
 },
 "nbformat": 4,
 "nbformat_minor": 2
}
