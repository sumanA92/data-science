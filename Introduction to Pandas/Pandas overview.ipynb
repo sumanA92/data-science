{
 "cells": [
  {
   "cell_type": "markdown",
   "metadata": {},
   "source": [
    "#### pandas is a Python package providing fast, flexible, and expressive data structures designed to make working with “relational” or “labeled” data both easy and intuitive. It aims to be the fundamental high-level building block for doing practical, real world data analysis in Python"
   ]
  },
  {
   "cell_type": "markdown",
   "metadata": {},
   "source": [
    "#### pandas is well suited for many different kinds of data:\n",
    "1. __Tabular data with heterogeneously-typed__ columns, as in an SQL table or Excel spreadsheet\n",
    "2. __Ordered and unordered__ (not necessarily fixed-frequency) time series data.\n",
    "3. __Arbitrary matrix data__ (homogeneously typed or heterogeneous) __with row and column labels__\n",
    "4. Any __other form of observational / statistical data sets__. The data actually __need not be labeled__ at all to be placed\n",
    "into a pandas data structure"
   ]
  },
  {
   "cell_type": "markdown",
   "metadata": {},
   "source": [
    "The two primary data structures of pandas, __Series (1-dimensional) and DataFrame (2-dimensional)__, handle the\n",
    "vast majority of typical use cases in finance, statistics, social science, and many areas of engineering. "
   ]
  },
  {
   "cell_type": "markdown",
   "metadata": {},
   "source": [
    "pandas is built on top of NumPy\n",
    "and is intended to integrate well within a scientific computing environment with many other 3rd party libraries"
   ]
  },
  {
   "cell_type": "markdown",
   "metadata": {},
   "source": [
    "#### Here are just a few of the things that pandas does well:\n",
    "\n",
    "• Easy handling of __missing data (represented as NaN)__ in floating point as well as non-floating point data\n",
    "\n",
    "• __Size mutability__: columns can be __inserted and deleted from DataFrame__ and higher dimensional objects\n",
    "\n",
    "• Automatic and explicit __data alignment__: objects can be explicitly aligned to a set of labels, or the user can\n",
    "simply ignore the labels and let Series, DataFrame, etc. automatically align the data for you in computations\n",
    "\n",
    "• Powerful, flexible __group by functionality__ to perform split-apply-combine operations on data sets, for both aggregating and transforming data\n",
    "\n",
    "• Make it __easy to convert__ ragged, differently-indexed data in other Python and NumPy data structures into\n",
    "DataFrame objects\n",
    "\n",
    "• Intelligent __label-based slicing, fancy indexing, and subsetting__ of large data sets\n",
    "\n",
    "• Intuitive __merging and joining__ data sets\n",
    "\n",
    "• Flexible __reshaping and pivoting__ of data sets\n",
    "\n",
    "• __Hierarchical labeling__ of axes (possible to have multiple labels per tick)\n",
    "\n",
    "• Robust IO __tools for loading data from flat files__ (CSV and delimited), Excel files, databases, and saving / loading\n",
    "data from the __ultrafast HDF5 format__\n",
    "\n",
    "• __Time series-specific functionality__: date range generation and frequency conversion, moving window statistics,\n",
    "moving window linear regressions, date shifting and lagging, etc.\n"
   ]
  },
  {
   "cell_type": "markdown",
   "metadata": {},
   "source": [
    "Many of these principles are here to address the shortcomings frequently experienced using other languages / scientific\n",
    "research environments. For data scientists, working with data is typically divided into multiple stages: munging and\n",
    "cleaning data, analyzing / modeling it, then organizing the results of the analysis into a form suitable for plotting or\n",
    "tabular display. pandas is the ideal tool for all of these tasks."
   ]
  },
  {
   "cell_type": "markdown",
   "metadata": {},
   "source": [
    "#### Series ---  1D labeled homogeneously-typed array\n",
    "#### DataFrame --- General 2D labeled, size-mutable tabular structure with potentially heterogeneously-typed column\n"
   ]
  },
  {
   "cell_type": "markdown",
   "metadata": {},
   "source": [
    "### Why more than one data structure?"
   ]
  },
  {
   "cell_type": "markdown",
   "metadata": {},
   "source": [
    "#### The best way to think about the pandas data structures is as flexible containers for lower dimensional data. For example, DataFrame is a container for Series, and Series is a container for scalars. We would like to be able to insert and remove objects from these containers in a dictionary-like fashion.\n"
   ]
  },
  {
   "cell_type": "markdown",
   "metadata": {},
   "source": [
    "Also, we would like sensible default behaviors for the common API functions which take into account the typical\n",
    "__orientation of time series and cross-sectional data sets__. __When using ndarrays__ to store 2- and 3-dimensional data, a\n",
    "__burden is placed on the user to consider the orientation of the data set when writing functions; axes are considered\n",
    "more or less equivalent__ (except when C- or Fortran-contiguousness matters for performance). __In pandas, the axes are\n",
    "intended to lend more semantic meaning to the data; i.e., for a particular data set there is likely to be a “right” way to\n",
    "orient the data.__ The goal, then, is to reduce the amount of mental effort required to code up data transformations in\n",
    "downstream functions.\n",
    "\n",
    "For example, with tabular data (DataFrame) it is more semantically helpful to think of the index (the rows) and the\n",
    "columns rather than axis 0 and axis 1. Iterating through the columns of the DataFrame thus results in more readable\n",
    "code:"
   ]
  },
  {
   "cell_type": "markdown",
   "metadata": {},
   "source": [
    "### Mutability and copying of data\n",
    "__All pandas data structures are value-mutable (the values they contain can be altered) but not always size-mutable__. The\n",
    "length of a Series cannot be changed, but, for example, columns can be inserted into a DataFrame. However, the vast\n",
    "majority of methods produce new objects and leave the input data untouched. In general we like to favor immutability\n",
    "where sensible"
   ]
  },
  {
   "cell_type": "code",
   "execution_count": null,
   "metadata": {},
   "outputs": [],
   "source": []
  }
 ],
 "metadata": {
  "kernelspec": {
   "display_name": "Python 3",
   "language": "python",
   "name": "python3"
  },
  "language_info": {
   "codemirror_mode": {
    "name": "ipython",
    "version": 3
   },
   "file_extension": ".py",
   "mimetype": "text/x-python",
   "name": "python",
   "nbconvert_exporter": "python",
   "pygments_lexer": "ipython3",
   "version": "3.7.1"
  }
 },
 "nbformat": 4,
 "nbformat_minor": 2
}
