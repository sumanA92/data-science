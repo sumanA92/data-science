{
 "cells": [
  {
   "cell_type": "code",
   "execution_count": 2,
   "metadata": {},
   "outputs": [],
   "source": [
    "import numpy as np\n",
    "import pandas as pd"
   ]
  },
  {
   "cell_type": "markdown",
   "metadata": {},
   "source": [
    "## Object creation"
   ]
  },
  {
   "cell_type": "markdown",
   "metadata": {},
   "source": [
    "#### Creating a Series by passing a list of values, letting pandas create a default integer index"
   ]
  },
  {
   "cell_type": "code",
   "execution_count": 4,
   "metadata": {},
   "outputs": [
    {
     "data": {
      "text/plain": [
       "0    1.0\n",
       "1    3.0\n",
       "2    NaN\n",
       "3    5.0\n",
       "4    6.0\n",
       "dtype: float64"
      ]
     },
     "execution_count": 4,
     "metadata": {},
     "output_type": "execute_result"
    }
   ],
   "source": [
    "s = pd.Series([1 ,3, np.nan, 5, 6])\n",
    "s"
   ]
  },
  {
   "cell_type": "markdown",
   "metadata": {},
   "source": [
    "#### Creating a DataFrame by passing a NumPy array, with a datetime index and labeled columns:\n"
   ]
  },
  {
   "cell_type": "code",
   "execution_count": 19,
   "metadata": {},
   "outputs": [
    {
     "data": {
      "text/plain": [
       "DatetimeIndex(['2019-08-14', '2019-08-15', '2019-08-16', '2019-08-17',\n",
       "               '2019-08-18', '2019-08-19'],\n",
       "              dtype='datetime64[ns]', freq='D')"
      ]
     },
     "execution_count": 19,
     "metadata": {},
     "output_type": "execute_result"
    }
   ],
   "source": [
    "dates = pd.date_range('2019-08-14' , periods=6)\n",
    "dates"
   ]
  },
  {
   "cell_type": "code",
   "execution_count": 20,
   "metadata": {},
   "outputs": [
    {
     "data": {
      "text/plain": [
       "DatetimeIndex(['2019-08-14', '2019-08-15', '2019-08-16', '2019-08-17',\n",
       "               '2019-08-18', '2019-08-19'],\n",
       "              dtype='datetime64[ns]', freq='D')"
      ]
     },
     "execution_count": 20,
     "metadata": {},
     "output_type": "execute_result"
    }
   ],
   "source": [
    "dates = pd.date_range('20190814' , periods=6)\n",
    "dates"
   ]
  },
  {
   "cell_type": "code",
   "execution_count": 21,
   "metadata": {},
   "outputs": [
    {
     "data": {
      "text/plain": [
       "array([[0.64711713, 0.87163522, 0.48779603, 0.66104406],\n",
       "       [0.48161309, 0.42086498, 0.66281459, 0.85668967],\n",
       "       [0.4787291 , 0.42256635, 0.14037298, 0.38206101],\n",
       "       [0.85935086, 0.79700733, 0.9202536 , 0.56522269],\n",
       "       [0.57102836, 0.88101146, 0.94164051, 0.69488884],\n",
       "       [0.7446752 , 0.83963572, 0.66898943, 0.09298905]])"
      ]
     },
     "execution_count": 21,
     "metadata": {},
     "output_type": "execute_result"
    }
   ],
   "source": [
    "np.random.rand(6, 4)"
   ]
  },
  {
   "cell_type": "code",
   "execution_count": 22,
   "metadata": {},
   "outputs": [
    {
     "data": {
      "text/plain": [
       "array([[-1.4109431 ,  0.53708894,  1.43096083, -0.85780459],\n",
       "       [-2.05545534, -0.17422532, -0.51436491, -0.86570513],\n",
       "       [-0.30220414, -1.13308127,  0.73524635, -1.4299958 ],\n",
       "       [-1.03221685,  0.38329639, -0.87368745, -0.63937106],\n",
       "       [ 0.75952715,  0.98103083, -0.87180506,  1.44669808],\n",
       "       [-0.48009177,  1.9933648 ,  1.09945612, -0.41372965]])"
      ]
     },
     "execution_count": 22,
     "metadata": {},
     "output_type": "execute_result"
    }
   ],
   "source": [
    "np.random.randn(6, 4)"
   ]
  },
  {
   "cell_type": "code",
   "execution_count": 26,
   "metadata": {},
   "outputs": [
    {
     "data": {
      "text/html": [
       "<div>\n",
       "<style scoped>\n",
       "    .dataframe tbody tr th:only-of-type {\n",
       "        vertical-align: middle;\n",
       "    }\n",
       "\n",
       "    .dataframe tbody tr th {\n",
       "        vertical-align: top;\n",
       "    }\n",
       "\n",
       "    .dataframe thead th {\n",
       "        text-align: right;\n",
       "    }\n",
       "</style>\n",
       "<table border=\"1\" class=\"dataframe\">\n",
       "  <thead>\n",
       "    <tr style=\"text-align: right;\">\n",
       "      <th></th>\n",
       "      <th>A</th>\n",
       "      <th>B</th>\n",
       "      <th>C</th>\n",
       "      <th>D</th>\n",
       "    </tr>\n",
       "  </thead>\n",
       "  <tbody>\n",
       "    <tr>\n",
       "      <th>2019-08-14</th>\n",
       "      <td>-0.778241</td>\n",
       "      <td>-0.227796</td>\n",
       "      <td>0.277006</td>\n",
       "      <td>0.427104</td>\n",
       "    </tr>\n",
       "    <tr>\n",
       "      <th>2019-08-15</th>\n",
       "      <td>-1.023532</td>\n",
       "      <td>0.013475</td>\n",
       "      <td>1.005470</td>\n",
       "      <td>-0.036714</td>\n",
       "    </tr>\n",
       "    <tr>\n",
       "      <th>2019-08-16</th>\n",
       "      <td>1.474918</td>\n",
       "      <td>-1.049093</td>\n",
       "      <td>-1.157597</td>\n",
       "      <td>0.322213</td>\n",
       "    </tr>\n",
       "    <tr>\n",
       "      <th>2019-08-17</th>\n",
       "      <td>-0.312681</td>\n",
       "      <td>-0.872288</td>\n",
       "      <td>0.203486</td>\n",
       "      <td>1.222012</td>\n",
       "    </tr>\n",
       "    <tr>\n",
       "      <th>2019-08-18</th>\n",
       "      <td>1.441041</td>\n",
       "      <td>0.624407</td>\n",
       "      <td>-0.342776</td>\n",
       "      <td>-0.497870</td>\n",
       "    </tr>\n",
       "    <tr>\n",
       "      <th>2019-08-19</th>\n",
       "      <td>0.481532</td>\n",
       "      <td>-1.976416</td>\n",
       "      <td>-0.353393</td>\n",
       "      <td>-1.180163</td>\n",
       "    </tr>\n",
       "  </tbody>\n",
       "</table>\n",
       "</div>"
      ],
      "text/plain": [
       "                   A         B         C         D\n",
       "2019-08-14 -0.778241 -0.227796  0.277006  0.427104\n",
       "2019-08-15 -1.023532  0.013475  1.005470 -0.036714\n",
       "2019-08-16  1.474918 -1.049093 -1.157597  0.322213\n",
       "2019-08-17 -0.312681 -0.872288  0.203486  1.222012\n",
       "2019-08-18  1.441041  0.624407 -0.342776 -0.497870\n",
       "2019-08-19  0.481532 -1.976416 -0.353393 -1.180163"
      ]
     },
     "execution_count": 26,
     "metadata": {},
     "output_type": "execute_result"
    }
   ],
   "source": [
    "#df = pd.DataFrame(np.random.randn(6, 4), index=dates, columns=['ABCD']) #ValueError: Shape of passed values is (4, 6), indices imply (1, 6)\n",
    "df = pd.DataFrame(np.random.randn(6, 4), index=dates, columns=list('ABCD'))\n",
    "df"
   ]
  },
  {
   "cell_type": "code",
   "execution_count": null,
   "metadata": {},
   "outputs": [],
   "source": []
  }
 ],
 "metadata": {
  "kernelspec": {
   "display_name": "Python 3",
   "language": "python",
   "name": "python3"
  },
  "language_info": {
   "codemirror_mode": {
    "name": "ipython",
    "version": 3
   },
   "file_extension": ".py",
   "mimetype": "text/x-python",
   "name": "python",
   "nbconvert_exporter": "python",
   "pygments_lexer": "ipython3",
   "version": "3.7.1"
  }
 },
 "nbformat": 4,
 "nbformat_minor": 2
}
