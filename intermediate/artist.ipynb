{
 "cells": [
  {
   "cell_type": "markdown",
   "metadata": {},
   "source": [
    "## Artist tutorial\n",
    "\n",
    "Using Artist objects to render on the canvas."
   ]
  },
  {
   "cell_type": "markdown",
   "metadata": {},
   "source": [
    "There are three layers to the matplotlib API.\n",
    "\n",
    "1. the matplotlib.backend_bases.__FigureCanvas__ is the area onto which the figure is drawn\n",
    "2. the matplotlib.backend_bases.__Renderer__ is the object which knows how to draw on the FigureCanvas\n",
    "3. the matplotlib.artist.__Artist__ is the object that knows how to use a renderer to paint onto the canvas.\n",
    "\n",
    "\n",
    "The FigureCanvas and Renderer handle all the details of talking to user interface toolkits like wxPython or drawing languages like PostScript®"
   ]
  },
  {
   "cell_type": "markdown",
   "metadata": {},
   "source": [
    "There are two types of Artists: \n",
    "   1.  __primitives__ are the standard graphical objects will be to painted onto the canvas: Line2D, Rectangle, Text, AxesImage\n",
    "   2. __containers.__ are places to put them (Axis, Axes and Figure)"
   ]
  },
  {
   "cell_type": "markdown",
   "metadata": {},
   "source": [
    "matplotlib.pyplot.figure() instantiates Figure instances and connecting them with user interface or drawing toolkit FigureCanvas. The Figure to create one or more Axes or Subplot instances, and use the Axes instance helper methods to create the primitives"
   ]
  },
  {
   "cell_type": "code",
   "execution_count": 31,
   "metadata": {},
   "outputs": [
    {
     "data": {
      "image/png": "[encoded data removed]",
      "text/plain": [
       "<Figure size 432x288 with 1 Axes>"
      ]
     },
     "metadata": {
      "needs_background": "light"
     },
     "output_type": "display_data"
    }
   ],
   "source": [
    "import matplotlib.pyplot as plt\n",
    "fig = plt.figure()\n",
    "ax = fig.add_subplot(2, 1, 1) # two rows, one column, first plot"
   ]
  },
  {
   "cell_type": "markdown",
   "metadata": {},
   "source": [
    "The __Axes__ is the plotting area into which most of the objects go, and __the Axes has many special helper methods__ (``plot(), text(), hist(), imshow()``) to create the most common graphics primitives (``Line2D, Text, Rectangle, Image``, respectively). These helper methods will take your data (e.g., numpy arrays and strings) and create primitive Artist instances as needed (e.g., Line2D), add them to the relevant containers, and draw them when requested"
   ]
  },
  {
   "cell_type": "markdown",
   "metadata": {},
   "source": [
    "__To create an Axes at an arbitrary location__, simply use the add_axes() method which takes a list of [left, bottom, width, height] values in 0-1 relative figure coordinates"
   ]
  },
  {
   "cell_type": "code",
   "execution_count": 2,
   "metadata": {},
   "outputs": [
    {
     "data": {
      "image/png": "[encoded data removed]",
      "text/plain": [
       "<Figure size 432x288 with 1 Axes>"
      ]
     },
     "metadata": {
      "needs_background": "light"
     },
     "output_type": "display_data"
    }
   ],
   "source": [
    "fig2 = plt.figure()\n",
    "ax2 = fig2.add_axes([0.15, 0.1, 0.7, 0.3])"
   ]
  },
  {
   "cell_type": "code",
   "execution_count": 45,
   "metadata": {},
   "outputs": [],
   "source": [
    "import numpy as np\n",
    "t = np.arange(0.0, 1.0, 0.01)\n",
    "s = np.sin(2*np.pi*t)\n",
    "line, = ax.plot(t, s, color='blue', lw=2)"
   ]
  },
  {
   "cell_type": "code",
   "execution_count": 46,
   "metadata": {},
   "outputs": [
    {
     "data": {
      "text/plain": [
       "<matplotlib.lines.Line2D at 0x12c286ec8d0>"
      ]
     },
     "execution_count": 46,
     "metadata": {},
     "output_type": "execute_result"
    }
   ],
   "source": [
    "ax.lines[0]"
   ]
  },
  {
   "cell_type": "code",
   "execution_count": 47,
   "metadata": {},
   "outputs": [
    {
     "data": {
      "text/plain": [
       "<matplotlib.lines.Line2D at 0x12c28aade80>"
      ]
     },
     "execution_count": 47,
     "metadata": {},
     "output_type": "execute_result"
    }
   ],
   "source": [
    "line"
   ]
  },
  {
   "cell_type": "markdown",
   "metadata": {},
   "source": [
    "The call ax.plot, it creates a Line2D instance and adds it to the Axes.lines list. You can remove lines later simply by calling the list methods"
   ]
  },
  {
   "cell_type": "code",
   "execution_count": 8,
   "metadata": {},
   "outputs": [],
   "source": [
    "del ax.lines[0]\n",
    "#ax.lines.remove(line)  # one or the other, not both!"
   ]
  },
  {
   "cell_type": "markdown",
   "metadata": {},
   "source": [
    "The Axes also has helper methods to configure and decorate the x-axis and y-axis tick, tick labels and axis labels:"
   ]
  },
  {
   "cell_type": "code",
   "execution_count": 50,
   "metadata": {},
   "outputs": [],
   "source": [
    "xtext = ax.set_xlabel('my xdata') # returns a Text instance\n",
    "ytext = ax.set_ylabel('my ydata')"
   ]
  },
  {
   "cell_type": "markdown",
   "metadata": {},
   "source": [
    "The call ax.set_xlabel, it passes the information on the Text instance of the XAxis. Each Axes instance contains an XAxis and a YAxis instance, which handle the layout and drawing of the ticks, tick labels and axis labels.`"
   ]
  },
  {
   "cell_type": "code",
   "execution_count": 55,
   "metadata": {},
   "outputs": [
    {
     "data": {
      "image/png": "[encoded data removed]",
      "text/plain": [
       "<Figure size 432x288 with 2 Axes>"
      ]
     },
     "metadata": {
      "needs_background": "light"
     },
     "output_type": "display_data"
    }
   ],
   "source": [
    "import numpy as np\n",
    "import matplotlib.pyplot as plt\n",
    "\n",
    "fig = plt.figure()\n",
    "fig.subplots_adjust(top=1.5)\n",
    "ax1 = fig.add_subplot(211)\n",
    "ax1.set_ylabel('volts')\n",
    "ax1.set_title('a sine wave')\n",
    "\n",
    "t = np.arange(0.0, 1.0, 0.01)\n",
    "s = np.sin(2*np.pi*t)\n",
    "line, = ax1.plot(t, s, color='blue', lw=2)\n",
    "\n",
    "# Fixing random state for reproducibility\n",
    "np.random.seed(19680801)\n",
    "\n",
    "ax2 = fig.add_axes([0.15, 0.1, 0.7, 0.3])\n",
    "n, bins, patches = ax2.hist(np.random.randn(1000), 50,\n",
    "                            facecolor='yellow', edgecolor='yellow')\n",
    "ax2.set_xlabel('time (s)')\n",
    "\n",
    "plt.show()"
   ]
  },
  {
   "cell_type": "markdown",
   "metadata": {},
   "source": [
    "### Customizing your objects"
   ]
  },
  {
   "cell_type": "markdown",
   "metadata": {},
   "source": [
    "Every element in the figure is represented by a matplotlib Artist, and each has an extensive list of properties to configure its appearance"
   ]
  },
  {
   "cell_type": "markdown",
   "metadata": {},
   "source": [
    "The figure itself contains a Rectangle exactly the size of the figure, which you can use to set the background color and transparency of the figures. Likewise, each Axes bounding box (the standard white box with black edges in the typical matplotlib plot, has a Rectangle instance that determines the color, transparency, and other properties of the Axes. These instances are stored as member variables Figure.patch and Axes.patch"
   ]
  },
  {
   "cell_type": "markdown",
   "metadata": {},
   "source": [
    "|Property|Description|\n",
    "| :- |------------- | \n",
    "|alpha|The transparency - a scalar from 0-1|\n",
    "|animated|A boolean that is used to facilitate animated drawing|\n",
    "|axes|The axes that the Artist lives in, possibly None|\n",
    "|clip_box|The bounding box that clips the Artist|\n",
    "|clip_on|Whether clipping is enabled|\n",
    "|clip_path|The path the artist is clipped to|\n",
    "|contains|A picking function to test whether the artist contains the pick point|\n",
    "|figure|The figure instance the artist lives in, possibly None|\n",
    "|label|A text label (e.g., for auto-labeling)|\n",
    "|picker|A python object that controls object picking|\n",
    "|transform|The transformation|\n",
    "|visible|A boolean whether the artist should be drawn|\n",
    "|zorder|A number which determines the drawing order|\n",
    "|rasterized|Boolean; Turns vectors into raster graphics (for compression & eps tr|\n"
   ]
  },
  {
   "cell_type": "markdown",
   "metadata": {},
   "source": [
    "Each of the properties is accessed with an old-fashioned setter or getter"
   ]
  },
  {
   "cell_type": "code",
   "execution_count": 63,
   "metadata": {},
   "outputs": [
    {
     "name": "stdout",
     "output_type": "stream",
     "text": [
      "0.25\n",
      "None\n"
     ]
    }
   ],
   "source": [
    "a = fig.get_alpha()\n",
    "print(a)\n",
    "print(fig.set_alpha(0.5*a))"
   ]
  },
  {
   "cell_type": "markdown",
   "metadata": {},
   "source": [
    "If you want to set a number of properties at once, you can also use the set method with keyword arguments. For example:"
   ]
  },
  {
   "cell_type": "code",
   "execution_count": 64,
   "metadata": {},
   "outputs": [
    {
     "data": {
      "text/plain": [
       "[None, None]"
      ]
     },
     "execution_count": 64,
     "metadata": {},
     "output_type": "execute_result"
    }
   ],
   "source": [
    "fig.set(alpha=0.5, zorder=2)"
   ]
  },
  {
   "cell_type": "markdown",
   "metadata": {},
   "source": [
    "matplotlib.artist.getp() function (simply getp() in pyplot), which lists the properties and their values. Here are the Figure rectangle properties mentioned above:"
   ]
  },
  {
   "cell_type": "code",
   "execution_count": 65,
   "metadata": {},
   "outputs": [
    {
     "name": "stdout",
     "output_type": "stream",
     "text": [
      "    agg_filter = None\n",
      "    alpha = None\n",
      "    animated = False\n",
      "    antialiased = False\n",
      "    bbox = Bbox(x0=0.0, y0=0.0, x1=1.0, y1=1.0)\n",
      "    capstyle = butt\n",
      "    children = []\n",
      "    clip_box = None\n",
      "    clip_on = True\n",
      "    clip_path = None\n",
      "    contains = None\n",
      "    data_transform = BboxTransformTo(     TransformedBbox(         Bbox...\n",
      "    edgecolor = (1.0, 1.0, 1.0, 0.0)\n",
      "    extents = Bbox(x0=0.0, y0=0.0, x1=432.0, y1=288.0)\n",
      "    facecolor = (1.0, 1.0, 1.0, 0.0)\n",
      "    figure = Figure(432x288)\n",
      "    fill = True\n",
      "    gid = None\n",
      "    hatch = None\n",
      "    height = 1\n",
      "    in_layout = True\n",
      "    joinstyle = miter\n",
      "    label = \n",
      "    linestyle = solid\n",
      "    linewidth = 0.0\n",
      "    patch_transform = CompositeGenericTransform(     BboxTransformTo(   ...\n",
      "    path = Path(array([[0., 0.],        [1., 0.],        [1.,...\n",
      "    path_effects = []\n",
      "    picker = None\n",
      "    rasterized = None\n",
      "    sketch_params = None\n",
      "    snap = None\n",
      "    transform = CompositeGenericTransform(     CompositeGenericTra...\n",
      "    transformed_clip_path_and_affine = (None, None)\n",
      "    url = None\n",
      "    verts = [[  0.   0.]  [432.   0.]  [432. 288.]  [  0. 288....\n",
      "    visible = True\n",
      "    width = 1\n",
      "    window_extent = Bbox(x0=0.0, y0=0.0, x1=432.0, y1=288.0)\n",
      "    x = 0\n",
      "    xy = (0, 0)\n",
      "    y = 0\n",
      "    zorder = 1\n"
     ]
    }
   ],
   "source": [
    "from matplotlib.artist import getp\n",
    "getp(fig.patch)"
   ]
  },
  {
   "cell_type": "markdown",
   "metadata": {},
   "source": [
    "### Object containers"
   ]
  },
  {
   "cell_type": "markdown",
   "metadata": {},
   "source": [
    "The primitives are usually the things you want to configure (the font of a Text instance, the width of a Line2D) although the containers also have some properties as well -- for example the Axes Artist is a container that contains many of the primitives in your plot, but it also has properties like the xscale to control whether the xaxis is 'linear' or 'log'. In this section we'll review where the various container objects store the Artists that you want to get at."
   ]
  },
  {
   "cell_type": "markdown",
   "metadata": {},
   "source": [
    "#### Figure container"
   ]
  },
  {
   "cell_type": "markdown",
   "metadata": {},
   "source": [
    "The top level container Artist is the matplotlib.figure.Figure, and it contains everything in the figure. The background of the figure is a Rectangle which is stored in Figure.patch. As you add subplots (add_subplot()) and axes (add_axes()) to the figure these will be appended to the Figure.axes. These are also returned by the methods that create them:"
   ]
  },
  {
   "cell_type": "code",
   "execution_count": 95,
   "metadata": {},
   "outputs": [
    {
     "data": {
      "image/png": "[encoded data removed]",
      "text/plain": [
       "<Figure size 432x288 with 3 Axes>"
      ]
     },
     "metadata": {
      "needs_background": "light"
     },
     "output_type": "display_data"
    }
   ],
   "source": [
    "fig = plt.figure()\n",
    "ax1 = plt.subplot(311)\n",
    "ax2 = fig.add_subplot(312)\n",
    "ax3 = fig.add_axes([0.1, 0.1, 0.7, 0.3])"
   ]
  },
  {
   "cell_type": "code",
   "execution_count": 96,
   "metadata": {},
   "outputs": [
    {
     "data": {
      "text/plain": [
       "<matplotlib.axes._subplots.AxesSubplot at 0x12c28b56320>"
      ]
     },
     "execution_count": 96,
     "metadata": {},
     "output_type": "execute_result"
    }
   ],
   "source": [
    "ax2"
   ]
  },
  {
   "cell_type": "code",
   "execution_count": 97,
   "metadata": {},
   "outputs": [
    {
     "data": {
      "text/plain": [
       "[<matplotlib.axes._subplots.AxesSubplot at 0x12c28c58ef0>,\n",
       " <matplotlib.axes._subplots.AxesSubplot at 0x12c28b56320>,\n",
       " <matplotlib.axes._axes.Axes at 0x12c28c0f390>]"
      ]
     },
     "execution_count": 97,
     "metadata": {},
     "output_type": "execute_result"
    }
   ],
   "source": [
    "fig.axes"
   ]
  },
  {
   "cell_type": "code",
   "execution_count": 98,
   "metadata": {},
   "outputs": [
    {
     "data": {
      "text/plain": [
       "<matplotlib.patches.Rectangle at 0x12c28b56ba8>"
      ]
     },
     "execution_count": 98,
     "metadata": {},
     "output_type": "execute_result"
    }
   ],
   "source": [
    "fig.patch"
   ]
  },
  {
   "cell_type": "code",
   "execution_count": 99,
   "metadata": {},
   "outputs": [
    {
     "data": {
      "text/plain": [
       "<matplotlib.axes._axes.Axes at 0x12c28c0f390>"
      ]
     },
     "execution_count": 99,
     "metadata": {},
     "output_type": "execute_result"
    }
   ],
   "source": [
    "ax = fig.gca()\n",
    "ax.plot([1,2,3])\n",
    "plt.show()\n",
    "ax"
   ]
  },
  {
   "cell_type": "code",
   "execution_count": 100,
   "metadata": {},
   "outputs": [
    {
     "data": {
      "text/plain": [
       "<matplotlib.axes._subplots.AxesSubplot at 0x12c28c58ef0>"
      ]
     },
     "execution_count": 100,
     "metadata": {},
     "output_type": "execute_result"
    }
   ],
   "source": [
    "fig.sca(ax1)"
   ]
  },
  {
   "cell_type": "code",
   "execution_count": 101,
   "metadata": {},
   "outputs": [],
   "source": [
    "fig.delaxes(ax2)"
   ]
  },
  {
   "cell_type": "code",
   "execution_count": 102,
   "metadata": {},
   "outputs": [
    {
     "data": {
      "text/plain": [
       "[<matplotlib.axes._subplots.AxesSubplot at 0x12c28c58ef0>,\n",
       " <matplotlib.axes._axes.Axes at 0x12c28c0f390>]"
      ]
     },
     "execution_count": 102,
     "metadata": {},
     "output_type": "execute_result"
    }
   ],
   "source": [
    "fig.axes"
   ]
  },
  {
   "cell_type": "markdown",
   "metadata": {},
   "source": [
    " You should not insert or remove axes directly from the axes list, but rather use the add_subplot() and add_axes() methods to insert, and the delaxes() method to delete. You are free however, to iterate over the list of axes or index into it to get access to Axes instances you want to customize. Here is an example which turns all the axes grids on:"
   ]
  },
  {
   "cell_type": "code",
   "execution_count": 103,
   "metadata": {},
   "outputs": [],
   "source": [
    "for ax in fig.axes:\n",
    "    ax.grid(True)"
   ]
  },
  {
   "cell_type": "markdown",
   "metadata": {},
   "source": [
    "The figure also has its own text, lines, patches and images, which you can use to add primitives directly. __The default coordinate system for the Figure will simply be in pixels (which is not usually what you want) but you can control this by setting the transform property of the Artist you are adding to the figure.__\n",
    "\n",
    "#### More useful is \"figure coordinates\" where (0, 0) is the bottom-left of the figure and (1, 1) is the top-right of the figure which you can obtain by setting the Artist transform to fig.transFigure:"
   ]
  },
  {
   "cell_type": "code",
   "execution_count": 106,
   "metadata": {},
   "outputs": [
    {
     "data": {
      "image/png": "[encoded data removed]",
      "text/plain": [
       "<Figure size 432x288 with 0 Axes>"
      ]
     },
     "metadata": {},
     "output_type": "display_data"
    }
   ],
   "source": [
    "import matplotlib.lines as lines\n",
    "\n",
    "fig = plt.figure()\n",
    "\n",
    "l1 = lines.Line2D([0, 1], [0, 1],figure=fig)\n",
    "fig.lines.extend([l1])\n",
    "plt.show()"
   ]
  },
  {
   "cell_type": "code",
   "execution_count": 118,
   "metadata": {},
   "outputs": [
    {
     "data": {
      "image/png": "[encoded data removed]",
      "text/plain": [
       "<Figure size 432x288 with 1 Axes>"
      ]
     },
     "metadata": {
      "needs_background": "light"
     },
     "output_type": "display_data"
    }
   ],
   "source": [
    "import matplotlib.lines as lines\n",
    "\n",
    "fig = plt.figure()\n",
    "\n",
    "l1 = lines.Line2D([0, 1], [0, 1],figure=fig, transform=fig.transFigure)\n",
    "fig.lines.extend([l1])\n",
    "plt.legend(fig.lines, ('line one'))\n",
    "plt.show()"
   ]
  },
  {
   "cell_type": "code",
   "execution_count": 116,
   "metadata": {},
   "outputs": [
    {
     "data": {
      "image/png": "[encoded data removed]",
      "text/plain": [
       "<Figure size 432x288 with 1 Axes>"
      ]
     },
     "metadata": {
      "needs_background": "light"
     },
     "output_type": "display_data"
    }
   ],
   "source": [
    "import matplotlib.lines as lines\n",
    "\n",
    "fig = plt.figure()\n",
    "\n",
    "l1 = lines.Line2D([0, 1], [0, 1],figure=fig, transform=fig.transFigure)\n",
    "l2 = lines.Line2D([1, 0], [0, 1],figure=fig, transform=fig.transFigure)\n",
    "fig.lines.extend([l1,l2])\n",
    "plt.legend(fig.lines, ('line one','line two'))\n",
    "plt.show()"
   ]
  },
  {
   "cell_type": "code",
   "execution_count": 119,
   "metadata": {},
   "outputs": [
    {
     "data": {
      "image/png": "[encoded data removed]",
      "text/plain": [
       "<Figure size 432x288 with 0 Axes>"
      ]
     },
     "metadata": {},
     "output_type": "display_data"
    }
   ],
   "source": [
    "import matplotlib.lines as lines\n",
    "\n",
    "fig = plt.figure()\n",
    "\n",
    "l1 = lines.Line2D([0, 1], [0, 1],figure=fig, transform=fig.transFigure)\n",
    "l2 = lines.Line2D([1, 0], [0, 1],figure=fig, transform=fig.transFigure)\n",
    "fig.lines.extend([l1,l2])\n",
    "plt.show()"
   ]
  },
  {
   "cell_type": "markdown",
   "metadata": {},
   "source": [
    "Here is a summary of the Artists the figure contains"
   ]
  },
  {
   "cell_type": "markdown",
   "metadata": {},
   "source": [
    "|Figure attribute|Description|\n",
    "|-----|-----|\n",
    "|axes|A list of Axes instances (includes Subplot)|\n",
    "|patch|The Rectangle background|\n",
    "|images|A list of FigureImages patches - useful for raw pixel display|\n",
    "|legends|A list of Figure Legend instanes (different from Axes.legends)|\n",
    "|lines|A list of Figure Line2D instances (rarely used, see Axes.lines)|\n",
    "|patches|A list of Figure patches (rarely used, see Axes.patches)|\n",
    "|texts|A list Figure Text instances|\n"
   ]
  },
  {
   "cell_type": "markdown",
   "metadata": {},
   "source": [
    "### Axes container"
   ]
  },
  {
   "cell_type": "markdown",
   "metadata": {},
   "source": [
    "The matplotlib.axes.Axes is the center of the matplotlib universe -- it contains the vast majority of all the Artists used in a figure with many helper methods to create and add these Artists to itself, as well as helper methods to access and customize the Artists it contains. Like the Figure, it contains a Patch patch which is a Rectangle for Cartesian coordinates and a Circle for polar coordinates; this patch determines the shape, background and border of the plotting region:"
   ]
  },
  {
   "cell_type": "code",
   "execution_count": 123,
   "metadata": {},
   "outputs": [
    {
     "data": {
      "image/png": "[encoded data removed]",
      "text/plain": [
       "<Figure size 432x288 with 1 Axes>"
      ]
     },
     "metadata": {
      "needs_background": "light"
     },
     "output_type": "display_data"
    }
   ],
   "source": [
    "fig = plt.figure()\n",
    "ax = fig.add_subplot(111)\n",
    "rect = ax.patch  # a Rectangle instance\n",
    "rect.set_facecolor('green')\n",
    "plt.show()"
   ]
  },
  {
   "cell_type": "code",
   "execution_count": 145,
   "metadata": {},
   "outputs": [
    {
     "data": {
      "text/plain": [
       "<Figure size 432x288 with 0 Axes>"
      ]
     },
     "metadata": {},
     "output_type": "display_data"
    },
    {
     "data": {
      "image/png": "[encoded data removed]",
      "text/plain": [
       "<Figure size 432x432 with 1 Axes>"
      ]
     },
     "metadata": {
      "needs_background": "light"
     },
     "output_type": "display_data"
    }
   ],
   "source": [
    "from matplotlib.patches import Circle\n",
    "fig = plt.figure()\n",
    "fig, ax = plt.subplots(figsize=(6, 6))\n",
    "circle = Circle((0, 0), 1, facecolor='green', edgecolor=(0, 0.8, 0.8), linewidth=3, alpha=0.5)\n",
    "ax.add_patch(circle)\n",
    "plt.show()"
   ]
  },
  {
   "cell_type": "markdown",
   "metadata": {},
   "source": [
    "the call to __plot()__ and pass in arrays or lists of values will create a matplotlib.lines.Line2D() instance, update the line with all the Line2D properties passed as keyword arguments, __add the line to the Axes.lines container__ and retur the lines"
   ]
  },
  {
   "cell_type": "code",
   "execution_count": 146,
   "metadata": {},
   "outputs": [
    {
     "data": {
      "text/plain": [
       "<matplotlib.lines.Line2D at 0x12c32d46588>"
      ]
     },
     "execution_count": 146,
     "metadata": {},
     "output_type": "execute_result"
    }
   ],
   "source": [
    "x, y = np.random.rand(2, 100)\n",
    "line, = ax.plot(x, y, '-', color='blue', linewidth=2)\n",
    "line"
   ]
  },
  {
   "cell_type": "code",
   "execution_count": 147,
   "metadata": {},
   "outputs": [
    {
     "data": {
      "text/plain": [
       "[<matplotlib.lines.Line2D at 0x12c32d46588>]"
      ]
     },
     "execution_count": 147,
     "metadata": {},
     "output_type": "execute_result"
    }
   ],
   "source": [
    "ax.lines"
   ]
  },
  {
   "cell_type": "markdown",
   "metadata": {},
   "source": [
    "plot returns a list of lines because you can pass in multiple x, y pairs to plot, and we are unpacking the first element of the length one list into the line variable"
   ]
  },
  {
   "cell_type": "markdown",
   "metadata": {},
   "source": [
    " #### bar() creates a list of rectangles, will add the patches to the Axes.patches list:"
   ]
  },
  {
   "cell_type": "code",
   "execution_count": 148,
   "metadata": {},
   "outputs": [
    {
     "data": {
      "text/plain": [
       "<a list of 50 Patch objects>"
      ]
     },
     "execution_count": 148,
     "metadata": {},
     "output_type": "execute_result"
    }
   ],
   "source": [
    "data = np.random.randn(1000)\n",
    "n, bins, rectangles = ax.hist(data, 50, facecolor='yellow')\n",
    "rectangles"
   ]
  },
  {
   "cell_type": "code",
   "execution_count": 149,
   "metadata": {},
   "outputs": [
    {
     "name": "stdout",
     "output_type": "stream",
     "text": [
      "51\n"
     ]
    }
   ],
   "source": [
    "print(len(ax.patches))"
   ]
  },
  {
   "cell_type": "code",
   "execution_count": 150,
   "metadata": {},
   "outputs": [
    {
     "data": {
      "text/plain": [
       "array([ 1.,  1.,  0.,  0.,  1.,  4.,  3., 12.,  6.,  9., 15.,  9., 19.,\n",
       "       19., 24., 34., 32., 20., 48., 43., 47., 48., 53., 52., 46., 61.,\n",
       "       51., 44., 43., 39., 31., 34., 20., 26., 24., 15., 17., 11.,  8.,\n",
       "        8.,  5.,  5.,  1.,  6.,  3.,  0.,  0.,  1.,  0.,  1.])"
      ]
     },
     "execution_count": 150,
     "metadata": {},
     "output_type": "execute_result"
    }
   ],
   "source": [
    "n"
   ]
  },
  {
   "cell_type": "code",
   "execution_count": 151,
   "metadata": {},
   "outputs": [
    {
     "data": {
      "text/plain": [
       "array([-3.02929801, -2.90549244, -2.78168687, -2.6578813 , -2.53407573,\n",
       "       -2.41027016, -2.28646458, -2.16265901, -2.03885344, -1.91504787,\n",
       "       -1.7912423 , -1.66743673, -1.54363116, -1.41982559, -1.29602002,\n",
       "       -1.17221445, -1.04840888, -0.92460331, -0.80079774, -0.67699217,\n",
       "       -0.55318659, -0.42938102, -0.30557545, -0.18176988, -0.05796431,\n",
       "        0.06584126,  0.18964683,  0.3134524 ,  0.43725797,  0.56106354,\n",
       "        0.68486911,  0.80867468,  0.93248025,  1.05628582,  1.1800914 ,\n",
       "        1.30389697,  1.42770254,  1.55150811,  1.67531368,  1.79911925,\n",
       "        1.92292482,  2.04673039,  2.17053596,  2.29434153,  2.4181471 ,\n",
       "        2.54195267,  2.66575824,  2.78956382,  2.91336939,  3.03717496,\n",
       "        3.16098053])"
      ]
     },
     "execution_count": 151,
     "metadata": {},
     "output_type": "execute_result"
    }
   ],
   "source": [
    "bins"
   ]
  },
  {
   "cell_type": "code",
   "execution_count": 152,
   "metadata": {},
   "outputs": [
    {
     "data": {
      "text/plain": [
       "array([-1.06270306e+00,  1.20543254e+00, -9.08010364e-01,  8.68181516e-01,\n",
       "        1.32040879e-01,  8.45755845e-01,  1.30292410e+00, -1.91418444e+00,\n",
       "       -1.58856638e+00,  1.23903235e-01, -1.39569718e-01, -6.99730350e-01,\n",
       "        5.72718948e-01, -7.82804657e-01,  1.18898764e+00, -2.05110844e-01,\n",
       "       -3.02929801e+00,  7.95758373e-01,  4.84878414e-01,  2.58924791e-01,\n",
       "        6.00036397e-01, -3.61458831e-01,  6.92986546e-01,  7.06705141e-01,\n",
       "        5.09976376e-01,  6.32639445e-01, -1.10689678e+00, -7.02639373e-01,\n",
       "       -5.08095394e-01, -2.51752445e-01, -1.07659585e+00, -1.24660787e+00,\n",
       "        9.56637066e-01, -7.68265858e-01,  1.13741918e+00,  1.26200788e+00,\n",
       "       -3.63461653e-01, -1.85276829e+00, -1.28482953e+00, -4.93902494e-01,\n",
       "        1.64408625e+00, -1.44210620e+00,  7.93033772e-01,  5.60869119e-01,\n",
       "       -3.03643327e-01, -2.05604041e+00,  3.90472014e-01,  3.74969591e-01,\n",
       "       -1.04283833e+00, -3.77203174e-01, -1.16234682e+00,  5.47238742e-01,\n",
       "       -7.91578443e-01, -8.60188249e-01, -4.76380548e-02, -1.57395411e-01,\n",
       "        1.76918175e-01, -9.79578100e-01, -7.82574412e-01,  2.33155196e+00,\n",
       "       -7.64885627e-01, -1.05440167e+00, -6.24825823e-01,  1.34017078e-01,\n",
       "        2.45224328e-01,  9.08037681e-01, -6.43770449e-01, -4.69645291e-01,\n",
       "       -7.89028717e-01, -8.75209625e-02, -6.07688104e-01, -4.92462931e-01,\n",
       "       -2.85335019e-01,  3.52529460e-02,  1.05155816e+00, -1.33721420e-01,\n",
       "        9.08184791e-01, -3.87375075e-01, -2.37653656e-01,  3.91617160e-01,\n",
       "        1.87783257e+00,  5.09555211e-01,  9.51856636e-01, -1.62782089e-01,\n",
       "       -1.06291213e+00, -3.24456555e-01,  2.48291457e-01,  2.14355331e-01,\n",
       "       -8.82559122e-01,  7.23821813e-01, -6.57621829e-01, -5.84985422e-02,\n",
       "       -1.19706774e+00, -9.94720582e-01,  1.22144422e+00, -5.76634535e-01,\n",
       "        1.04450896e+00,  2.35653425e-01,  1.30952778e+00, -9.62115557e-01,\n",
       "        6.13601791e-01, -5.04972292e-01,  1.33696901e+00, -4.20661026e-01,\n",
       "       -1.82548596e+00, -1.91818583e-01,  1.14826482e+00, -1.09887335e+00,\n",
       "       -2.46968434e-01, -1.27900877e+00,  1.61622181e+00, -2.09207850e+00,\n",
       "       -2.93612032e-01,  2.06995518e+00, -1.06593095e-01,  2.43307525e-01,\n",
       "       -1.27571985e+00, -1.06626939e+00, -4.03354729e-01,  1.12464272e-01,\n",
       "        1.15811210e+00, -8.02386180e-01, -5.06254966e-01,  1.21853857e-01,\n",
       "        3.00220372e-01,  5.96263679e-01,  4.84322458e-01, -1.44391494e+00,\n",
       "        1.12862165e-01, -1.90311143e-01, -9.77695388e-01, -4.49906091e-01,\n",
       "        5.73884230e-01,  5.12687333e-01, -4.23321362e-01, -3.34965772e-01,\n",
       "        1.10950821e+00,  1.10329277e+00, -4.68011102e-01, -1.02404703e+00,\n",
       "        1.83127060e+00,  7.57577734e-01, -7.53408976e-01, -1.79023751e+00,\n",
       "       -4.87346765e-01, -1.58170499e+00, -5.12038539e-01, -1.10379864e+00,\n",
       "        3.55540015e-01, -1.08052278e+00, -1.19953615e-01, -8.39196154e-01,\n",
       "       -6.03782503e-01, -1.48261044e-01, -4.35022155e-01,  1.62386038e+00,\n",
       "       -3.12003599e-01, -2.69224816e-01, -5.88687372e-01,  3.18964019e-01,\n",
       "        8.73944848e-01,  1.26274186e+00,  3.19637997e-01,  6.38461364e-01,\n",
       "       -6.31025616e-02, -3.56251994e-01,  2.65645438e-01,  1.00424065e-01,\n",
       "        1.40513018e+00, -6.33087166e-01,  4.00929186e-01,  9.38184294e-01,\n",
       "       -1.66240944e-01,  3.70371290e-01,  1.28905151e-01, -6.15322073e-01,\n",
       "        4.91134064e-01,  9.71402489e-01,  1.37124495e+00, -1.01590980e+00,\n",
       "        5.93402393e-01,  2.09246649e-01, -3.76171390e-02, -1.16196594e+00,\n",
       "        9.05218469e-01, -1.18062655e+00, -9.69612835e-01, -1.19628968e-01,\n",
       "        7.44863917e-02,  1.77451590e-01,  6.71826121e-01,  2.89249718e-01,\n",
       "        9.12876182e-01, -8.43745908e-02,  8.66517015e-01,  8.95531145e-01,\n",
       "       -6.24461470e-02,  2.10816983e-02,  4.66703626e-01,  1.48761346e-01,\n",
       "       -6.66769085e-01, -1.57874972e+00,  1.71029185e+00,  1.08647331e-01,\n",
       "       -1.18097907e+00,  6.53606840e-01,  3.21980750e-01, -4.36665879e-01,\n",
       "        4.62031376e-01, -3.29093806e-01,  7.48781542e-01, -2.18267715e+00,\n",
       "        1.35195912e-01,  1.30857967e-01,  4.05246406e-02, -9.30088991e-01,\n",
       "       -6.17861905e-01,  7.58164701e-01,  1.23661854e-01,  2.07957094e+00,\n",
       "       -2.26251147e-01,  1.06191601e+00,  1.76450404e+00, -2.79935412e-01,\n",
       "        1.38984089e+00, -5.70314511e-01, -1.72198810e-01, -2.14765025e+00,\n",
       "       -8.64978521e-01, -3.51309483e-01, -4.10860916e-01,  2.08856728e+00,\n",
       "       -7.49647703e-01, -2.09505187e-01, -1.10195884e+00, -1.50960825e+00,\n",
       "       -5.54393007e-01,  4.42881319e-01, -7.32894518e-01, -6.32873807e-01,\n",
       "        1.10686583e-01,  9.74700808e-01, -3.28447933e-01,  1.36348654e+00,\n",
       "        7.85537123e-01, -6.15783751e-02, -4.97596453e-01,  6.75933268e-02,\n",
       "       -9.51879352e-01,  5.00163544e-01, -8.69475150e-02, -1.96569408e-01,\n",
       "       -1.14255435e+00, -3.57136192e-01,  8.02031080e-01, -4.25876129e-01,\n",
       "       -1.05333643e+00, -2.94624299e-01,  4.79716339e-01, -1.61909105e+00,\n",
       "       -1.25373609e+00, -5.96536825e-01, -8.04017498e-01,  5.62974040e-01,\n",
       "       -1.96137908e+00, -7.79451981e-01, -9.79699057e-01,  2.86791618e-02,\n",
       "        1.38123743e+00, -4.51677788e-01, -6.61986815e-01,  2.84251674e-01,\n",
       "       -3.62993554e-01,  2.76982011e-01,  2.32940998e+00,  1.87276573e+00,\n",
       "       -1.07996357e+00,  6.71380939e-01, -7.81639960e-01,  4.66335709e-01,\n",
       "        1.80762101e-01,  3.04536567e-01,  6.31113588e-01,  3.44726276e-01,\n",
       "       -2.93857933e-01,  1.06536088e+00, -1.26945253e+00, -1.16054976e-01,\n",
       "       -4.49641373e-01,  4.55355541e-01,  3.93801987e-01,  4.64782925e-01,\n",
       "       -1.28080838e-02,  3.27531203e-01,  5.76948382e-01, -4.03822090e-01,\n",
       "        9.58834323e-01,  1.23156158e+00,  1.98952656e+00,  1.45660049e+00,\n",
       "       -6.78293572e-01, -7.92886441e-01, -3.80255717e-01,  2.56834411e-02,\n",
       "       -1.76622247e+00, -5.00975768e-01, -9.30916540e-01, -1.52404876e-01,\n",
       "        1.34588132e+00,  8.67798750e-01,  3.72673971e-01,  5.43800243e-01,\n",
       "       -1.11042679e+00,  2.15229635e-01, -8.64047816e-02,  7.95136284e-01,\n",
       "       -1.02734717e+00,  4.53973102e-02, -1.74818283e-01, -4.76301307e-01,\n",
       "        7.29597212e-02, -2.38796746e-01,  1.64478084e-01, -1.46211094e+00,\n",
       "        1.13343350e-01,  1.34987054e-01, -6.09066429e-01, -1.20762950e+00,\n",
       "       -2.36495216e-02,  3.06400466e-01, -6.07241990e-02, -1.37076707e+00,\n",
       "        1.37414001e-01, -8.38845986e-01, -1.96762599e+00, -7.27234149e-01,\n",
       "        4.43909353e-01, -1.49505149e+00, -1.15468122e+00, -8.42282723e-03,\n",
       "       -7.21083836e-02,  7.74847342e-03,  6.47377746e-01, -2.35745757e-01,\n",
       "       -9.88638104e-01, -4.18082154e-01,  1.54595221e+00,  7.54755034e-01,\n",
       "       -1.93437773e+00, -1.06711249e-02, -3.00352331e-01, -6.40689307e-01,\n",
       "        2.07170865e-01,  2.66044141e-01, -3.09353173e-01,  1.51249645e-01,\n",
       "       -6.38593804e-01,  2.07370045e+00, -9.82072731e-01,  6.43765191e-02,\n",
       "        2.43156711e-01, -3.98347478e-01, -1.93389060e-01, -4.94022990e-01,\n",
       "        3.16098053e+00, -1.08061498e+00,  1.52633152e+00, -3.62983159e-01,\n",
       "        1.59989596e+00, -6.89206908e-01, -4.40856907e-01,  5.79447504e-01,\n",
       "        1.22256977e+00,  3.86151229e-01,  1.27668359e+00,  4.09284164e-01,\n",
       "        9.06537890e-01,  3.44333587e-01, -7.14237573e-01, -1.52413140e+00,\n",
       "        4.31747398e-01,  3.33722501e-01,  6.51371451e-02, -5.14172189e-01,\n",
       "        3.13069641e-01, -2.10463838e+00, -5.53653820e-01,  1.28801021e-01,\n",
       "        8.32404983e-02, -2.53406487e-01, -1.80736592e+00, -1.53654759e+00,\n",
       "        1.16498011e+00,  6.57604024e-01,  9.12381051e-01,  9.31410580e-01,\n",
       "       -6.09029885e-01, -3.79857928e-01,  8.58683236e-01, -2.29323237e-01,\n",
       "        6.87747386e-02, -1.65307623e+00, -1.35507916e+00, -5.65532177e-01,\n",
       "       -1.77449233e+00, -5.03421146e-01, -2.26072189e-02, -2.22791285e+00,\n",
       "       -7.81902018e-01, -3.92901444e-02, -2.16002388e-01, -1.88459732e+00,\n",
       "       -3.39344066e-01, -1.59157024e+00, -1.09480686e+00,  2.62524383e-01,\n",
       "       -8.52765336e-01, -5.92856165e-01,  1.36509206e+00,  2.26761552e+00,\n",
       "       -5.91637645e-01, -1.41111594e+00,  9.04581023e-02, -2.78397637e-01,\n",
       "        1.46591269e+00, -3.14043477e-01,  1.15830607e+00, -2.23109842e-01,\n",
       "       -2.99506695e-01,  1.69185509e-01, -9.06814082e-01,  2.81543132e-01,\n",
       "       -1.42180323e+00,  1.59123531e+00, -9.02148199e-02,  4.73768087e-01,\n",
       "       -1.05046035e+00, -9.10929975e-01,  1.55023011e+00,  5.78011587e-01,\n",
       "       -1.76687186e+00, -5.74753477e-01, -1.08337461e-01, -2.39574369e-01,\n",
       "        3.91039534e-01,  1.97327046e+00,  6.55274714e-01,  1.01095408e+00,\n",
       "        1.35652760e-01, -9.35662175e-01, -4.07694619e-01, -8.73499150e-02,\n",
       "       -1.18731905e+00, -6.42124081e-02, -2.03922988e-01,  6.99406913e-01,\n",
       "        2.47450898e+00, -8.54914557e-02,  1.83062565e-01,  2.73155420e-01,\n",
       "       -3.56243611e-01, -5.37988261e-01,  7.49731993e-02,  1.25514909e+00,\n",
       "       -2.82927940e-01,  1.05894198e+00,  5.37273090e-01, -1.01825243e+00,\n",
       "        2.49097589e-01,  6.22018850e-01, -7.41668318e-02,  1.58400612e+00,\n",
       "       -1.19501376e-01,  1.06736390e+00,  5.87415480e-01, -1.19814978e+00,\n",
       "        8.37165349e-01, -6.27840444e-01, -3.80415974e-01, -7.96287629e-01,\n",
       "       -7.30501026e-01, -4.44654686e-01,  5.22047749e-01,  1.19633088e-01,\n",
       "        8.69233138e-01,  8.91511430e-01,  7.67485801e-01,  7.11675576e-01,\n",
       "        1.77393838e-01,  1.08170024e+00,  5.13801851e-01,  2.82980832e-01,\n",
       "       -8.33139248e-02, -1.34594234e+00, -1.47390497e-01,  3.53366785e-01,\n",
       "        7.34584115e-02, -2.46208166e-01,  1.05488417e+00,  1.70617786e+00,\n",
       "       -5.09878706e-01,  5.82361005e-01,  1.18416561e-01, -1.39207150e-01,\n",
       "        1.21400592e+00, -6.77976204e-01,  1.34611625e-01,  1.62376436e-01,\n",
       "       -1.35640830e-01,  1.81648484e-01,  3.34243689e-01, -7.39031459e-02,\n",
       "       -5.44593982e-01, -8.39787744e-01, -9.92895203e-01,  1.15259919e+00,\n",
       "       -2.50898198e-01,  4.16262269e-02, -7.81117872e-01,  2.13138643e-01,\n",
       "        3.73218503e-01, -4.76492751e-01, -9.52322127e-01, -6.92124763e-01,\n",
       "       -5.33524562e-01,  5.25642100e-01, -1.34289280e+00,  7.36391881e-02,\n",
       "        5.40064167e-01,  3.09111804e-01, -5.40892538e-01, -1.16746705e+00,\n",
       "       -4.82673223e-01, -6.56221727e-01,  1.68145341e-01,  4.79108797e-01,\n",
       "        1.53232342e+00,  2.34884002e+00, -4.73350592e-01, -7.14793768e-01,\n",
       "       -1.33037742e+00,  2.45036111e+00, -1.39731510e+00,  1.87439025e-01,\n",
       "        7.09603406e-01, -1.73123062e-01, -7.91189367e-01, -1.29074617e+00,\n",
       "        9.08298494e-01, -1.13035851e+00,  1.72373872e+00,  1.58893933e+00,\n",
       "       -7.11162286e-01,  1.02987377e+00, -1.75254676e+00,  1.44779827e+00,\n",
       "        5.09587972e-01,  1.07898934e+00,  2.50614991e-01, -1.29280090e-02,\n",
       "        4.03434976e-01, -9.51379508e-01,  1.65475621e+00, -6.71603195e-01,\n",
       "        4.60281462e-01,  1.49696131e+00, -5.54092788e-01, -1.77057082e-01,\n",
       "        2.51916137e-01,  6.23690741e-01, -8.36686832e-02,  5.73544269e-01,\n",
       "       -4.36650686e-02,  1.17120263e+00, -1.79170508e+00, -3.85184213e-01,\n",
       "        4.47416027e-01, -5.07743827e-01,  7.92999423e-01,  4.70617249e-01,\n",
       "       -1.52690167e+00, -2.32241153e+00, -7.49730809e-01, -1.18586041e-01,\n",
       "        7.28410486e-01, -7.06700139e-01,  1.47094172e+00, -1.96742356e+00,\n",
       "        8.93225003e-02, -6.24811482e-01, -3.73663338e-01,  8.15700740e-01,\n",
       "        1.95603897e-01, -1.85450907e+00, -4.70686240e-01,  2.23415336e-01,\n",
       "       -6.46511697e-01,  7.66740711e-01,  7.17317764e-01, -9.50279522e-01,\n",
       "       -3.29594762e-01,  4.36852847e-01, -9.99815997e-01,  7.62120828e-01,\n",
       "        8.33843984e-02,  1.57567496e+00,  4.04875179e-01, -5.39388812e-01,\n",
       "        3.25138363e-01, -2.06827152e+00,  3.12822073e-02,  2.80213866e-01,\n",
       "        1.19464865e+00,  1.69985131e+00,  1.18549424e+00,  8.00853725e-01,\n",
       "       -1.51102912e+00,  1.18020662e+00, -2.60254635e-01, -6.59569841e-01,\n",
       "        1.39613649e+00,  3.66993363e-01, -3.16168653e-01,  9.38214334e-02,\n",
       "       -6.93751590e-01,  8.34051466e-01,  2.04843253e+00, -3.56587881e-01,\n",
       "        5.06388319e-01, -1.70765573e+00, -2.16138738e+00, -6.38939764e-01,\n",
       "       -1.05245102e+00, -1.01742235e-02, -5.63166738e-02, -1.45048274e+00,\n",
       "        4.50598083e-02,  5.93224016e-01, -4.82486796e-01,  9.61610220e-01,\n",
       "        1.58802533e+00, -2.29333222e+00, -1.32612606e+00, -7.09894190e-01,\n",
       "        2.27465147e-01,  2.48899804e+00,  3.57473034e-01,  1.13547303e+00,\n",
       "        3.67253621e-01,  5.07904090e-01,  3.22622138e-01, -3.04674137e-02,\n",
       "        1.27000136e+00,  5.15309491e-01, -2.34680645e+00,  1.32115416e-01,\n",
       "        8.62876356e-01,  2.99137174e-01, -5.31210037e-01,  4.71176552e-01,\n",
       "        1.24348122e+00, -5.38166966e-01, -7.43393905e-02,  6.00875959e-01,\n",
       "       -1.16096761e+00, -3.99985520e-01, -4.22756685e-01,  1.41811577e+00,\n",
       "       -6.46843414e-01,  5.36663035e-01, -1.37384048e+00, -1.91764588e-01,\n",
       "       -7.03012178e-01, -2.13240432e+00, -1.06815962e+00, -2.97837577e-01,\n",
       "        2.26730868e-01, -1.54982959e+00, -1.12622754e+00,  2.41261730e+00,\n",
       "        1.78713524e+00, -4.04246873e-01,  3.09988762e-01, -1.38655382e+00,\n",
       "       -7.63275051e-01,  1.76970527e-02,  4.61892619e-01,  8.50015833e-02,\n",
       "       -2.04267063e+00, -8.14640704e-02,  3.85258957e-01, -1.12166996e+00,\n",
       "       -5.85684413e-01,  3.44397085e-01, -6.63792797e-01, -4.95871919e-01,\n",
       "       -6.67977942e-01,  1.44315111e+00, -1.36598263e+00, -1.37670788e+00,\n",
       "       -8.07044177e-01,  2.27246512e-01, -1.12066306e+00,  2.76615610e-01,\n",
       "       -2.79956817e-01, -4.85492653e-01, -8.78265448e-01,  1.11995317e+00,\n",
       "       -1.13686028e+00,  8.23397074e-01,  6.76478285e-01,  9.10532663e-01,\n",
       "       -1.97182806e+00, -7.08899583e-01,  5.64521091e-01, -1.09028715e-02,\n",
       "       -2.13131223e+00, -7.88231258e-01,  1.93542335e+00, -3.75179225e-01,\n",
       "       -2.10140714e+00,  3.23914629e-01, -9.92793318e-01, -2.49027988e-02,\n",
       "       -2.09787564e+00,  1.19447143e+00, -1.25526596e-01, -2.14595173e+00,\n",
       "        6.49933273e-01, -3.23368011e-02,  1.80821430e+00,  3.04344788e-01,\n",
       "        3.98693032e-01, -1.03836515e+00,  8.34447618e-01,  1.68839082e-01,\n",
       "       -4.78871355e-01, -4.21042220e-01, -5.23216238e-02, -1.47051017e+00,\n",
       "       -1.02558711e+00,  6.06274545e-01,  1.29156468e+00,  1.70200020e-01,\n",
       "        1.01425749e+00, -1.28650824e+00, -1.02718063e+00, -8.50273675e-01,\n",
       "        7.29641297e-01, -1.47094303e+00,  1.83892259e+00, -1.10392365e+00,\n",
       "       -1.06499897e+00,  3.12712507e-01,  1.09802806e+00, -5.83998789e-01,\n",
       "        5.94130410e-01, -1.67610421e-02,  1.27717328e-01, -6.76036287e-01,\n",
       "       -7.65179419e-01, -1.41498900e+00,  1.31625873e+00, -6.88380700e-01,\n",
       "        9.11364757e-01,  1.32247559e-01,  1.34826535e+00,  1.02085815e+00,\n",
       "       -2.26885727e-01,  2.27977821e-01, -9.37145848e-01, -1.76772862e+00,\n",
       "        3.26890364e-01,  2.15653200e-01,  6.72243244e-02,  3.71291779e-01,\n",
       "       -1.59966262e+00,  1.37380293e+00,  1.34438065e-01, -6.80993603e-01,\n",
       "       -1.06162518e+00,  5.53211192e-01,  5.81315818e-02,  1.50222291e+00,\n",
       "        1.10550219e+00, -1.54043972e+00, -1.12964982e+00,  1.10350127e+00,\n",
       "       -1.00576062e+00, -5.01077858e-01, -8.95103739e-01, -1.42520337e+00,\n",
       "        1.01721934e+00, -1.65946574e-01, -2.27844284e+00, -1.75362063e+00,\n",
       "       -7.73475848e-02, -6.96887865e-01,  1.86932463e+00,  3.90905915e-01,\n",
       "       -5.36196474e-01, -2.39223063e+00,  1.93769639e+00,  1.17233540e+00,\n",
       "       -3.61400650e-01, -9.52052699e-02, -1.32310512e+00,  1.83274163e+00,\n",
       "       -3.03820403e-01, -1.34660983e+00, -1.71948432e+00,  3.28979413e-01,\n",
       "        1.54360170e+00,  1.27342652e+00, -5.54629697e-01, -2.96668953e-01,\n",
       "        3.77546389e-01, -5.39029949e-01,  4.46411460e-02,  2.00961978e+00,\n",
       "        4.53168555e-01,  7.25166341e-01,  5.20658301e-01,  7.65813868e-01,\n",
       "        1.72899367e+00, -2.17175348e-01, -1.46842332e+00, -1.70754467e+00,\n",
       "       -1.20801534e+00, -2.60363172e-01,  1.44609157e+00,  8.17562424e-01,\n",
       "        2.66331502e-01,  1.05088234e+00,  3.37898305e-01, -7.95559822e-03,\n",
       "       -6.45872699e-02, -1.23497551e+00,  4.48421425e-01,  2.12220049e-01,\n",
       "       -4.07541661e-02, -3.95794827e-01,  7.32418502e-01,  1.54119570e+00,\n",
       "       -4.19825566e-01, -7.68984829e-01, -1.23227706e+00, -8.61884158e-02,\n",
       "       -7.30481691e-01, -1.91225303e-01, -1.20100457e+00,  3.09036465e-01,\n",
       "        2.10904641e-01,  1.48340473e+00, -1.47530881e-02, -1.82570998e+00,\n",
       "       -1.84251718e+00, -5.69167874e-01,  3.27298851e-01, -9.79672921e-01,\n",
       "        9.01818621e-02, -3.00302707e-03,  1.34661973e+00, -6.96195667e-01,\n",
       "        4.96451863e-01,  2.83806628e+00, -1.69303820e+00, -2.98920286e-01,\n",
       "       -6.25147226e-02,  9.75329007e-01, -8.15715857e-01, -2.92217217e-01,\n",
       "       -6.09089568e-01, -3.08069036e-02, -5.87246374e-01, -1.42975019e-01,\n",
       "        8.28124157e-01, -1.38951727e+00, -1.30424941e+00, -1.75836967e+00,\n",
       "       -8.50084052e-01, -1.72159941e+00,  9.27223108e-01,  1.18728482e-01,\n",
       "       -3.28034931e-01,  8.62455721e-01, -1.23672894e+00,  1.19902245e+00,\n",
       "       -4.16775649e-01, -9.98889642e-01, -7.77037487e-01, -1.48050759e+00,\n",
       "       -2.25525779e-01, -1.55686776e+00,  6.32028320e-01,  2.57007646e-01,\n",
       "       -1.37124560e+00, -2.25485113e-01,  7.67829156e-01,  6.87514007e-01,\n",
       "       -2.38296809e-01, -7.99766291e-01,  6.71467211e-01, -2.00629306e+00,\n",
       "       -1.27597658e+00, -2.90001401e+00,  1.08402605e+00, -2.51976081e-01,\n",
       "       -1.98168562e-01, -5.32013194e-01,  4.34806776e-01,  4.17111202e-02,\n",
       "       -7.31898613e-01, -3.06116192e-02, -2.42790897e+00,  7.47252999e-01,\n",
       "        6.34446594e-01, -1.19642332e+00, -5.49753147e-01, -2.03240421e-02,\n",
       "        3.13747073e-01, -2.10254793e-02, -1.16585599e+00, -3.22970421e-02,\n",
       "       -1.50897583e+00,  1.02212582e+00, -4.84884966e-01,  1.30304129e+00,\n",
       "        1.12019909e+00, -5.02516434e-01,  1.54105327e+00,  2.64854978e-01,\n",
       "        3.27216216e-01,  7.70494975e-02,  1.90399708e+00,  5.41480033e-01,\n",
       "        8.42033114e-01,  1.14243761e+00,  2.34502060e-01, -8.05400937e-01,\n",
       "        1.40926754e-01,  1.08172380e-01, -3.94040535e-01,  1.28033652e+00,\n",
       "       -1.20740254e+00, -1.41842517e+00,  6.17075618e-01,  9.28633726e-01,\n",
       "       -1.23426951e+00, -1.44670964e+00,  6.46900893e-01,  2.36655261e+00,\n",
       "       -1.98880588e-01, -1.49127890e-02,  2.30665279e-01, -3.43091313e-01,\n",
       "        1.78972539e-02,  8.30781877e-01,  4.88470704e-01, -1.28690737e-01,\n",
       "       -9.59293898e-01,  6.78069958e-01, -3.77336042e-01,  9.74879066e-01,\n",
       "        6.50154125e-01, -8.43401754e-01, -1.66822350e-01, -1.77028112e+00,\n",
       "       -4.65666854e-01, -6.85578794e-01, -1.17338190e+00,  1.35256359e-01,\n",
       "        3.06855222e-01, -1.15938736e-02,  4.70567441e-01,  2.37943101e+00,\n",
       "       -2.41367891e-01, -2.09016128e-01,  9.22243253e-01,  1.77596771e+00,\n",
       "       -6.94785448e-01,  5.87204250e-01, -1.57050326e-01,  1.13899741e+00,\n",
       "        9.30074752e-01,  9.47779147e-01, -7.62276002e-01, -1.88892782e-01,\n",
       "        1.27797812e+00, -2.08695874e-01,  1.63281099e+00, -1.71125210e+00,\n",
       "        7.29257375e-01,  2.41501996e-01,  1.34616886e-01,  1.46316848e+00,\n",
       "        1.09384914e+00,  8.06312621e-01, -1.04705335e+00,  1.22395331e+00])"
      ]
     },
     "execution_count": 152,
     "metadata": {},
     "output_type": "execute_result"
    }
   ],
   "source": [
    "data"
   ]
  },
  {
   "cell_type": "code",
   "execution_count": 160,
   "metadata": {},
   "outputs": [
    {
     "name": "stdout",
     "output_type": "stream",
     "text": [
      "None\n",
      "CompositeGenericTransform(\n",
      "    BboxTransformTo(\n",
      "        Bbox(x0=1.0, y0=1.0, x1=6.0, y1=13.0)),\n",
      "    Affine2D(\n",
      "        [[1. 0. 0.]\n",
      "         [0. 1. 0.]\n",
      "         [0. 0. 1.]]))\n",
      "AxesSubplot(0.125,0.125;0.775x0.755)\n",
      "CompositeGenericTransform(\n",
      "    CompositeGenericTransform(\n",
      "        BboxTransformTo(\n",
      "            Bbox(x0=1.0, y0=1.0, x1=6.0, y1=13.0)),\n",
      "        Affine2D(\n",
      "            [[1. 0. 0.]\n",
      "             [0. 1. 0.]\n",
      "             [0. 0. 1.]])),\n",
      "    CompositeGenericTransform(\n",
      "        TransformWrapper(\n",
      "            BlendedAffine2D(\n",
      "                IdentityTransform(),\n",
      "                IdentityTransform())),\n",
      "        CompositeGenericTransform(\n",
      "            BboxTransformFrom(\n",
      "                TransformedBbox(\n",
      "                    Bbox(x0=0.0, y0=0.0, x1=1.0, y1=1.0),\n",
      "                    TransformWrapper(\n",
      "                        BlendedAffine2D(\n",
      "                            IdentityTransform(),\n",
      "                            IdentityTransform())))),\n",
      "            BboxTransformTo(\n",
      "                TransformedBbox(\n",
      "                    Bbox(x0=0.125, y0=0.125, x1=0.9, y1=0.88),\n",
      "                    BboxTransformTo(\n",
      "                        TransformedBbox(\n",
      "                            Bbox(x0=0.0, y0=0.0, x1=6.0, y1=4.0),\n",
      "                            Affine2D(\n",
      "                                [[72.  0.  0.]\n",
      "                                 [ 0. 72.  0.]\n",
      "                                 [ 0.  0.  1.]]))))))))\n",
      "CompositeGenericTransform(\n",
      "    TransformWrapper(\n",
      "        BlendedAffine2D(\n",
      "            IdentityTransform(),\n",
      "            IdentityTransform())),\n",
      "    CompositeGenericTransform(\n",
      "        BboxTransformFrom(\n",
      "            TransformedBbox(\n",
      "                Bbox(x0=0.0, y0=0.0, x1=1.0, y1=1.0),\n",
      "                TransformWrapper(\n",
      "                    BlendedAffine2D(\n",
      "                        IdentityTransform(),\n",
      "                        IdentityTransform())))),\n",
      "        BboxTransformTo(\n",
      "            TransformedBbox(\n",
      "                Bbox(x0=0.125, y0=0.125, x1=0.9, y1=0.88),\n",
      "                BboxTransformTo(\n",
      "                    TransformedBbox(\n",
      "                        Bbox(x0=0.0, y0=0.0, x1=6.0, y1=4.0),\n",
      "                        Affine2D(\n",
      "                            [[72.  0.  0.]\n",
      "                             [ 0. 72.  0.]\n",
      "                             [ 0.  0.  1.]])))))))\n",
      "(0.0, 1.0)\n",
      "(1.0, 1.0, 5.0, 12.0)\n",
      "(0.75, 6.25)\n"
     ]
    },
    {
     "data": {
      "image/png": "[encoded data removed]",
      "text/plain": [
       "<Figure size 432x288 with 1 Axes>"
      ]
     },
     "metadata": {
      "needs_background": "light"
     },
     "output_type": "display_data"
    }
   ],
   "source": [
    "import matplotlib\n",
    "fig, ax = plt.subplots()\n",
    "\n",
    "# create a rectangle instance\n",
    "rect = matplotlib.patches.Rectangle( (1,1), width=5, height=12)\n",
    "\n",
    "# by default the axes instance is None\n",
    "#print(rect.get_axes())\n",
    "print(rect.axes)\n",
    "#None\n",
    "\n",
    "# and the transformation instance is set to the \"identity transform\"\n",
    "print(rect.get_transform())\n",
    "#<Affine object at 0x13695544>\n",
    "\n",
    "# now we add the Rectangle to the Axes\n",
    "ax.add_patch(rect)\n",
    "\n",
    "# and notice that the ax.add_patch method has set the axes\n",
    "# instance\n",
    "print(rect.axes)\n",
    "#Axes(0.125,0.1;0.775x0.8)\n",
    "\n",
    "# and the transformation has been set too\n",
    "print(rect.get_transform())\n",
    "#<Affine object at 0x15009ca4>\n",
    "\n",
    "# the default axes transformation is ax.transData\n",
    "print(ax.transData)\n",
    "#<Affine object at 0x15009ca4>\n",
    "\n",
    "# notice that the xlimits of the Axes have not been changed\n",
    "print(ax.get_xlim())\n",
    "#(0.0, 1.0)\n",
    "\n",
    "# but the data limits have been updated to encompass the rectangle\n",
    "print(ax.dataLim.bounds)\n",
    "#(1.0, 1.0, 5.0, 12.0)\n",
    "\n",
    "# we can manually invoke the auto-scaling machinery\n",
    "ax.autoscale_view()\n",
    "\n",
    "# and now the xlim are updated to encompass the rectangle\n",
    "print(ax.get_xlim())\n",
    "#(1.0, 6.0)\n",
    "\n",
    "# we have to manually force a figure draw\n",
    "ax.figure.canvas.draw()"
   ]
  },
  {
   "cell_type": "markdown",
   "metadata": {},
   "source": [
    "There are many, many Axes helper methods for creating primitive Artists and adding them to their respective containers. The table below summarizes a small sampling of them, the kinds of Artist they create, and where they store them"
   ]
  },
  {
   "cell_type": "markdown",
   "metadata": {},
   "source": [
    "|Helper method\t| Artist\t| Container\n",
    "|---|----|----\n",
    "| ax.annotate | text annotations\tAnnotate\t| ax.texts\n",
    "| ax.bar | bar charts\tRectangle\t| ax.patches\n",
    "| ax.errorbar | error bar plots\tLine2D and Rectangle\t| ax.lines and | ax.patches\n",
    "| ax.fill | shared area\tPolygon\t| ax.patches\n",
    "| ax.hist | histograms\tRectangle\t| ax.patches\n",
    "| ax.imshow | image data\tAxesImage\t| ax.images\n",
    "| ax.legend | axes legends\tLegend\t| ax.legends\n",
    "| ax.plot | xy plots\tLine2D\t| ax.lines\n",
    "| ax.scatter | scatter charts\tPolygonCollection\t| ax.collections\n",
    "| ax.text | text\tText\t| ax.texts"
   ]
  },
  {
   "cell_type": "markdown",
   "metadata": {},
   "source": [
    "In addition to all of these Artists, the Axes contains two important Artist containers: __the XAxis and YAxis containers__, which handle the drawing of the ticks and labels. These are stored as instance variables xaxis and yaxis."
   ]
  },
  {
   "cell_type": "code",
   "execution_count": 169,
   "metadata": {},
   "outputs": [
    {
     "data": {
      "image/png": "[encoded data removed]",
      "text/plain": [
       "<Figure size 432x288 with 1 Axes>"
      ]
     },
     "metadata": {},
     "output_type": "display_data"
    }
   ],
   "source": [
    "fig, ax = plt.subplots()\n",
    "ax.plot([1, 2, 3, 4])\n",
    "for label in ax.get_xticklabels():\n",
    "    label.set_color('orange')\n",
    "plt.show()        "
   ]
  },
  {
   "cell_type": "markdown",
   "metadata": {},
   "source": [
    "Below is a summary of the Artists that the Axes contains"
   ]
  },
  {
   "cell_type": "markdown",
   "metadata": {},
   "source": [
    "| Axes attribute\t| Description\n",
    "|----|---|\n",
    "| artists\t| A list of Artist instances\n",
    "| patch\t| Rectangle instance for Axes background\n",
    "| collections\t| A list of Collection instances\n",
    "| images\t| A list of AxesImage\n",
    "| legends\t| A list of Legend instances\n",
    "| lines\t| A list of Line2D instances\n",
    "| patches\t| A list of Patch instances\n",
    "| texts\t| A list of Text instances\n",
    "| xaxis\t| matplotlib.axis.XAxis instance\n",
    "| yaxis\t| matplotlib.axis.YAxis instance"
   ]
  },
  {
   "cell_type": "markdown",
   "metadata": {},
   "source": [
    "### Axis containers"
   ]
  },
  {
   "cell_type": "markdown",
   "metadata": {},
   "source": [
    "The matplotlib.axis.Axis instances handle the drawing of the tick lines, the grid lines, the tick labels and the axis label. You can configure the left and right ticks separately for the y-axis, and the upper and lower ticks separately for the x-axis. The Axis also stores the data and view intervals used in auto-scaling, panning and zooming, as well as the Locator and Formatter instances which control where the ticks are placed and how they are represented as strings."
   ]
  },
  {
   "cell_type": "markdown",
   "metadata": {},
   "source": [
    "Each Axis object __contains a label attribute__ (this is what pyplot modifies in calls to __xlabel() and ylabel()__) as well as a list of major and minor ticks. The ticks are __XTick and YTick__ instances, which contain the actual line and text primitives that render the ticks and ticklabels. You can access the lists of major and minor ticks through their accessor methods ``get_major_ticks() and get_minor_ticks()``"
   ]
  },
  {
   "cell_type": "code",
   "execution_count": 170,
   "metadata": {},
   "outputs": [
    {
     "data": {
      "text/plain": [
       "array([0. , 0.2, 0.4, 0.6, 0.8, 1. ])"
      ]
     },
     "execution_count": 170,
     "metadata": {},
     "output_type": "execute_result"
    },
    {
     "data": {
      "image/png": "[encoded data removed]",
      "text/plain": [
       "<Figure size 432x288 with 1 Axes>"
      ]
     },
     "metadata": {
      "needs_background": "light"
     },
     "output_type": "display_data"
    }
   ],
   "source": [
    "fig, ax = plt.subplots()\n",
    "axis = ax.xaxis\n",
    "axis.get_ticklocs()"
   ]
  },
  {
   "cell_type": "code",
   "execution_count": 174,
   "metadata": {},
   "outputs": [
    {
     "data": {
      "text/plain": [
       "<a list of 6 Text major ticklabel objects>"
      ]
     },
     "execution_count": 174,
     "metadata": {},
     "output_type": "execute_result"
    }
   ],
   "source": [
    "axis.get_ticklabels()"
   ]
  },
  {
   "cell_type": "code",
   "execution_count": 175,
   "metadata": {},
   "outputs": [
    {
     "data": {
      "text/plain": [
       "<a list of 0 Text minor ticklabel objects>"
      ]
     },
     "execution_count": 175,
     "metadata": {},
     "output_type": "execute_result"
    }
   ],
   "source": [
    "axis.get_ticklabels(minor=True)"
   ]
  },
  {
   "cell_type": "markdown",
   "metadata": {},
   "source": [
    "> #### Note: there are twice as many ticklines as labels because by default there are tick lines at the top and bottom but only tick labels below the xaxis; this can be customized"
   ]
  },
  {
   "cell_type": "markdown",
   "metadata": {},
   "source": [
    "#### by default you get the major ticks back"
   ]
  },
  {
   "cell_type": "code",
   "execution_count": 172,
   "metadata": {},
   "outputs": [
    {
     "data": {
      "text/plain": [
       "<a list of 12 Line2D ticklines objects>"
      ]
     },
     "execution_count": 172,
     "metadata": {},
     "output_type": "execute_result"
    }
   ],
   "source": [
    "axis.get_ticklines() # tick lines = 2* tick lables"
   ]
  },
  {
   "cell_type": "code",
   "execution_count": 173,
   "metadata": {},
   "outputs": [
    {
     "data": {
      "text/plain": [
       "<a list of 0 Line2D ticklines objects>"
      ]
     },
     "execution_count": 173,
     "metadata": {},
     "output_type": "execute_result"
    }
   ],
   "source": [
    "axis.get_ticklines(minor=True) #but you can also ask for the minor ticks"
   ]
  },
  {
   "cell_type": "markdown",
   "metadata": {},
   "source": [
    "| Accessor method         | Description\n",
    "|----|----|              \n",
    "| get_scale               | The scale of the axis, e.g., 'log' or 'linear'\n",
    "| get_view_interval       | The interval instance of the axis view limits\n",
    "| get_data_interval       | The interval instance of the axis data limits\n",
    "| get_gridlines           | A list of grid lines for the Axis\n",
    "| get_label               | The axis label - a Text instance\n",
    "| get_ticklabels          | A list of Text instances - keyword minor=True|False\n",
    "| get_ticklines           | A list of Line2D instances - keyword minor=True|False\n",
    "| get_ticklocs            | A list of Tick locations - keyword minor=True|False\n",
    "| get_major_locator       | The matplotlib.ticker.Locator instance for major ticks\n",
    "| get_major_formatter     | The matplotlib.ticker.Formatter instance for major ticks\n",
    "| get_minor_locator       | The matplotlib.ticker.Locator instance for minor ticks\n",
    "| get_minor_formatter     | The matplotlib.ticker.Formatter instance for minor ticks\n",
    "| get_major_ticks         | A list of Tick instances for major ticks\n",
    "| get_minor_ticks         | A list of Tick instances for minor ticks\n",
    "| grid                    | Turn the grid on or off for the major or minor ticks"
   ]
  },
  {
   "cell_type": "code",
   "execution_count": 176,
   "metadata": {},
   "outputs": [
    {
     "data": {
      "image/png": "[encoded data removed]",
      "text/plain": [
       "<Figure size 432x288 with 1 Axes>"
      ]
     },
     "metadata": {},
     "output_type": "display_data"
    }
   ],
   "source": [
    "fig = plt.figure()\n",
    "rect = fig.patch  # a rectangle instance\n",
    "rect.set_facecolor('lightgoldenrodyellow')\n",
    "\n",
    "ax1 = fig.add_axes([0.1, 0.3, 0.4, 0.4])\n",
    "rect = ax1.patch\n",
    "rect.set_facecolor('lightslategray')\n",
    "\n",
    "\n",
    "for label in ax1.xaxis.get_ticklabels():\n",
    "    # label is a Text instance\n",
    "    label.set_color('red')\n",
    "    label.set_rotation(45)\n",
    "    label.set_fontsize(16)\n",
    "\n",
    "for line in ax1.yaxis.get_ticklines():\n",
    "    # line is a Line2D instance\n",
    "    line.set_color('green')\n",
    "    line.set_markersize(25)\n",
    "    line.set_markeredgewidth(3)\n",
    "\n",
    "plt.show()"
   ]
  },
  {
   "cell_type": "markdown",
   "metadata": {},
   "source": [
    "### Tick containers"
   ]
  },
  {
   "cell_type": "markdown",
   "metadata": {},
   "source": [
    "The matplotlib.axis.Tick is the final container object in our descent from the Figure to the Axes to the Axis to the Tick. The Tick contains the tick and grid line instances, as well as the label instances for the upper and lower ticks. Each of these is accessible directly as an attribute of the Tick."
   ]
  },
  {
   "cell_type": "markdown",
   "metadata": {},
   "source": [
    "|Tick attribute\t|Description\n",
    "|---|---\n",
    "|tick1line\t|Line2D instance\n",
    "|tick2line\t|Line2D instance\n",
    "|gridline\t|Line2D instance\n",
    "|label1\t\t|Text instance\n",
    "|label2\t\t|Text instance"
   ]
  },
  {
   "cell_type": "code",
   "execution_count": 183,
   "metadata": {},
   "outputs": [
    {
     "data": {
      "image/png": "[encoded data removed]",
      "text/plain": [
       "<Figure size 432x288 with 1 Axes>"
      ]
     },
     "metadata": {
      "needs_background": "light"
     },
     "output_type": "display_data"
    }
   ],
   "source": [
    "import matplotlib.ticker as ticker\n",
    "\n",
    "# Fixing random state for reproducibility\n",
    "np.random.seed(19680801)\n",
    "\n",
    "fig, ax = plt.subplots()\n",
    "ax.plot(100*np.random.rand(20))\n",
    "\n",
    "formatter = ticker.FormatStrFormatter('$%1.2f')\n",
    "ax.yaxis.set_major_formatter(formatter)\n",
    "\n",
    "for tick in ax.yaxis.get_major_ticks():\n",
    "    tick.label1.set_visible(False) # disabled left side y label\n",
    "    tick.label2.set_visible(True) #enabled rifht side y label\n",
    "    tick.label2.set_color('green')\n",
    "    tick.tick1line.set_color('red')\n",
    "    tick.tick1line.set_markersize(25)\n",
    "    tick.tick1line.set_markeredgewidth(3)\n",
    "    tick.tick2line.set_color('green')\n",
    "    tick.tick2line.set_markersize(25)\n",
    "    tick.tick2line.set_markeredgewidth(3)\n",
    "\n",
    "plt.show()"
   ]
  },
  {
   "cell_type": "code",
   "execution_count": null,
   "metadata": {},
   "outputs": [],
   "source": []
  }
 ],
 "metadata": {
  "kernelspec": {
   "display_name": "Python 3",
   "language": "python",
   "name": "python3"
  },
  "language_info": {
   "codemirror_mode": {
    "name": "ipython",
    "version": 3
   },
   "file_extension": ".py",
   "mimetype": "text/x-python",
   "name": "python",
   "nbconvert_exporter": "python",
   "pygments_lexer": "ipython3",
   "version": "3.7.1"
  }
 },
 "nbformat": 4,
 "nbformat_minor": 2
}
