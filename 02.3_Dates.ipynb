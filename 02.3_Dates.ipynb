{
 "cells": [
  {
   "cell_type": "markdown",
   "metadata": {},
   "source": [
    "## Dates and Times\n",
    "\n",
    "A special type of categorical variable are those that instead of taking traditional labels, like color (blue, red), or city (London, Manchester), take dates as values. For example, date of birth ('29-08-1987', '12-01-2012'), or time of application ('2016-Dec', '2013-March').\n",
    "\n",
    "Datetime variables can contain dates only, or time only, or date and time.\n",
    "\n",
    "Typically, we would never work with a date variable as a categorical variable, for a variety of reasons:\n",
    "\n",
    "- Date variables usually contain a huge number of individual categories, which will expand the feature space dramatically\n",
    "- Date variables allow us to capture much more information from the dataset if preprocessed in the right way\n",
    "\n",
    "In addition, often, date variables will contain dates that were not present in the dataset that we used to train the machine learning algorithm. In fact, will contain dates placed in the future respect to the dates present in the dataset we used to train. Therefore, the machine learning model will not know what to do with them, because it never saw them while being trained. \n",
    "\n",
    "**I will cover different types of pre-processing/engineering date variables in the section \"Engineering date variables\".**\n",
    "\n",
    "=============================================================================\n",
    "\n",
    "\n",
    "## Real Life example: Peer to peer lending (Finance)\n",
    "\n",
    "### Lending Club\n",
    "\n",
    "**Lending Club** is a peer-to-peer Lending company based in the US. They match people looking to invest money with people looking to borrow money. When investors invest their money through Lending Club, this money is passed onto borrowers, and when borrowers pay their loans back, the capital plus the interest passes on back to the investors. It is a win for everybody as they can get typically lower loan rates and higher investor returns.\n",
    "\n",
    "If you want to learn more about Lending Club follow this [link](https://www.lendingclub.com/).\n",
    "\n",
    "The Lending Club dataset contains complete loan data for all loans issued through 2007-2015, including the current loan status (Current, Late, Fully Paid, etc.) and latest payment information. Features include credit scores, number of finance inquiries, address including zip codes and state, and collections among others. Collections indicates whether the customer has missed one or more payments and the team is trying to recover their money.\n",
    "\n",
    "The file is a matrix of about 890 thousand observations and 75 variables. More detail on this dataset can be found in [Kaggle's website](https://www.kaggle.com/wendykan/lending-club-loan-data)\n",
    "\n",
    "Let's go ahead and have a look at the variables!"
   ]
  },
  {
   "cell_type": "markdown",
   "metadata": {},
   "source": [
    "====================================================================================================\n",
    "\n",
    "To download the Lending Club loan book from Kaggle go to this [website](https://www.kaggle.com/wendykan/lending-club-loan-data)\n",
    "\n",
    "Scroll down to the bottom of the page, and click on the link 'loan.csv', and then click the 'download' blue button towards the right of the screen, to download the dataset.\n",
    "Unzip it, and save it to a directory of your choice.\n",
    "\n",
    "**Note that you need to be logged in to Kaggle in order to download the datasets**.\n",
    "\n",
    "If you save it in the same directory from which you are running this notebook, then you can load it the same way I will load it below.\n",
    "\n",
    "===================================================================================================="
   ]
  },
  {
   "cell_type": "code",
   "execution_count": 1,
   "metadata": {},
   "outputs": [],
   "source": [
    "import pandas as pd\n",
    "import numpy as np\n",
    "\n",
    "import matplotlib.pyplot as plt\n",
    "%matplotlib inline"
   ]
  },
  {
   "cell_type": "code",
   "execution_count": 2,
   "metadata": {},
   "outputs": [
    {
     "data": {
      "text/html": [
       "<div>\n",
       "<style scoped>\n",
       "    .dataframe tbody tr th:only-of-type {\n",
       "        vertical-align: middle;\n",
       "    }\n",
       "\n",
       "    .dataframe tbody tr th {\n",
       "        vertical-align: top;\n",
       "    }\n",
       "\n",
       "    .dataframe thead th {\n",
       "        text-align: right;\n",
       "    }\n",
       "</style>\n",
       "<table border=\"1\" class=\"dataframe\">\n",
       "  <thead>\n",
       "    <tr style=\"text-align: right;\">\n",
       "      <th></th>\n",
       "      <th>loan_amnt</th>\n",
       "      <th>grade</th>\n",
       "      <th>issue_d</th>\n",
       "      <th>purpose</th>\n",
       "      <th>last_pymnt_d</th>\n",
       "    </tr>\n",
       "  </thead>\n",
       "  <tbody>\n",
       "    <tr>\n",
       "      <th>0</th>\n",
       "      <td>2500</td>\n",
       "      <td>C</td>\n",
       "      <td>Dec-18</td>\n",
       "      <td>debt_consolidation</td>\n",
       "      <td>Feb-19</td>\n",
       "    </tr>\n",
       "    <tr>\n",
       "      <th>1</th>\n",
       "      <td>30000</td>\n",
       "      <td>D</td>\n",
       "      <td>Dec-18</td>\n",
       "      <td>debt_consolidation</td>\n",
       "      <td>Feb-19</td>\n",
       "    </tr>\n",
       "    <tr>\n",
       "      <th>2</th>\n",
       "      <td>5000</td>\n",
       "      <td>D</td>\n",
       "      <td>Dec-18</td>\n",
       "      <td>debt_consolidation</td>\n",
       "      <td>Feb-19</td>\n",
       "    </tr>\n",
       "    <tr>\n",
       "      <th>3</th>\n",
       "      <td>4000</td>\n",
       "      <td>D</td>\n",
       "      <td>Dec-18</td>\n",
       "      <td>debt_consolidation</td>\n",
       "      <td>Feb-19</td>\n",
       "    </tr>\n",
       "    <tr>\n",
       "      <th>4</th>\n",
       "      <td>30000</td>\n",
       "      <td>C</td>\n",
       "      <td>Dec-18</td>\n",
       "      <td>debt_consolidation</td>\n",
       "      <td>Feb-19</td>\n",
       "    </tr>\n",
       "  </tbody>\n",
       "</table>\n",
       "</div>"
      ],
      "text/plain": [
       "   loan_amnt grade issue_d             purpose last_pymnt_d\n",
       "0       2500     C  Dec-18  debt_consolidation       Feb-19\n",
       "1      30000     D  Dec-18  debt_consolidation       Feb-19\n",
       "2       5000     D  Dec-18  debt_consolidation       Feb-19\n",
       "3       4000     D  Dec-18  debt_consolidation       Feb-19\n",
       "4      30000     C  Dec-18  debt_consolidation       Feb-19"
      ]
     },
     "execution_count": 2,
     "metadata": {},
     "output_type": "execute_result"
    }
   ],
   "source": [
    "# let's load the Lending Club dataset with a few selected columns\n",
    "\n",
    "use_cols = ['loan_amnt', 'grade', 'purpose', 'issue_d', 'last_pymnt_d']\n",
    "\n",
    "data = pd.read_csv('loan.csv', usecols=use_cols)\n",
    "\n",
    "data.head()"
   ]
  },
  {
   "cell_type": "code",
   "execution_count": 4,
   "metadata": {},
   "outputs": [
    {
     "data": {
      "text/plain": [
       "(loan_amnt        int64\n",
       " grade           object\n",
       " issue_d         object\n",
       " purpose         object\n",
       " last_pymnt_d    object\n",
       " dtype: object, (1048575, 5))"
      ]
     },
     "execution_count": 4,
     "metadata": {},
     "output_type": "execute_result"
    }
   ],
   "source": [
    "# let's inspect at the pandas type of object used to store the information\n",
    "\n",
    "data.dtypes, data.shape"
   ]
  },
  {
   "cell_type": "code",
   "execution_count": 16,
   "metadata": {},
   "outputs": [
    {
     "data": {
      "text/html": [
       "<div>\n",
       "<style scoped>\n",
       "    .dataframe tbody tr th:only-of-type {\n",
       "        vertical-align: middle;\n",
       "    }\n",
       "\n",
       "    .dataframe tbody tr th {\n",
       "        vertical-align: top;\n",
       "    }\n",
       "\n",
       "    .dataframe thead th {\n",
       "        text-align: right;\n",
       "    }\n",
       "</style>\n",
       "<table border=\"1\" class=\"dataframe\">\n",
       "  <thead>\n",
       "    <tr style=\"text-align: right;\">\n",
       "      <th></th>\n",
       "      <th>issue_d</th>\n",
       "      <th>issue_dt</th>\n",
       "      <th>last_pymnt_d</th>\n",
       "      <th>last_pymnt_dt</th>\n",
       "    </tr>\n",
       "  </thead>\n",
       "  <tbody>\n",
       "    <tr>\n",
       "      <th>0</th>\n",
       "      <td>Dec-18</td>\n",
       "      <td>2018-12-01</td>\n",
       "      <td>Feb-19</td>\n",
       "      <td>2019-02-01</td>\n",
       "    </tr>\n",
       "    <tr>\n",
       "      <th>1</th>\n",
       "      <td>Dec-18</td>\n",
       "      <td>2018-12-01</td>\n",
       "      <td>Feb-19</td>\n",
       "      <td>2019-02-01</td>\n",
       "    </tr>\n",
       "    <tr>\n",
       "      <th>2</th>\n",
       "      <td>Dec-18</td>\n",
       "      <td>2018-12-01</td>\n",
       "      <td>Feb-19</td>\n",
       "      <td>2019-02-01</td>\n",
       "    </tr>\n",
       "    <tr>\n",
       "      <th>3</th>\n",
       "      <td>Dec-18</td>\n",
       "      <td>2018-12-01</td>\n",
       "      <td>Feb-19</td>\n",
       "      <td>2019-02-01</td>\n",
       "    </tr>\n",
       "    <tr>\n",
       "      <th>4</th>\n",
       "      <td>Dec-18</td>\n",
       "      <td>2018-12-01</td>\n",
       "      <td>Feb-19</td>\n",
       "      <td>2019-02-01</td>\n",
       "    </tr>\n",
       "  </tbody>\n",
       "</table>\n",
       "</div>"
      ],
      "text/plain": [
       "  issue_d   issue_dt last_pymnt_d last_pymnt_dt\n",
       "0  Dec-18 2018-12-01       Feb-19    2019-02-01\n",
       "1  Dec-18 2018-12-01       Feb-19    2019-02-01\n",
       "2  Dec-18 2018-12-01       Feb-19    2019-02-01\n",
       "3  Dec-18 2018-12-01       Feb-19    2019-02-01\n",
       "4  Dec-18 2018-12-01       Feb-19    2019-02-01"
      ]
     },
     "execution_count": 16,
     "metadata": {},
     "output_type": "execute_result"
    }
   ],
   "source": [
    "# now let's parse the dates, currently coded as strings, into datetime format\n",
    "# this will allow us to make some analysis afterwards\n",
    "\n",
    "data['issue_dt'] = pd.to_datetime(data.issue_d, format='%b-%y')\n",
    "data['last_pymnt_dt'] = pd.to_datetime(data.last_pymnt_d, errors='coerce', format='%b-%y')\n",
    "\n",
    "data[['issue_d', 'issue_dt', 'last_pymnt_d', 'last_pymnt_dt']].head()"
   ]
  },
  {
   "cell_type": "code",
   "execution_count": 28,
   "metadata": {},
   "outputs": [
    {
     "data": {
      "text/plain": [
       "issue_dt    grade\n",
       "2015-10-01  A         98847925\n",
       "            B        157492625\n",
       "            C        155293775\n",
       "            D         82040875\n",
       "            E         49807050\n",
       "            F         13743250\n",
       "            G          3027675\n",
       "2015-11-01  A         96877225\n",
       "            B        159012975\n",
       "            C        166885150\n",
       "            D         78934850\n",
       "            E         49738050\n",
       "            F         13179950\n",
       "            G          2569125\n",
       "2015-12-01  A        111858650\n",
       "            B        182194000\n",
       "            C        191813650\n",
       "            D        101166925\n",
       "            E         59556350\n",
       "            F         17824425\n",
       "            G          3496550\n",
       "2016-01-01  A         95759575\n",
       "            B        147332350\n",
       "            C        140597350\n",
       "            D         68702300\n",
       "            E         45947075\n",
       "            F         16410300\n",
       "            G          3654450\n",
       "2016-02-01  A        104884925\n",
       "            B        183327175\n",
       "                       ...    \n",
       "2018-08-01  F          7538325\n",
       "            G          1985025\n",
       "2018-09-01  A        199957025\n",
       "            B        170989225\n",
       "            C        148304850\n",
       "            D         86592225\n",
       "            E         22135600\n",
       "            F          6115525\n",
       "            G          1300325\n",
       "2018-10-01  A        232693850\n",
       "            B        208821350\n",
       "            C        176067225\n",
       "            D         94842475\n",
       "            E         27580425\n",
       "            F          4964700\n",
       "            G          1161450\n",
       "2018-11-01  A        189129500\n",
       "            B        191774400\n",
       "            C        164978850\n",
       "            D         90100050\n",
       "            E         29521450\n",
       "            F          1218875\n",
       "            G           211600\n",
       "2018-12-01  A        182992850\n",
       "            B        191000375\n",
       "            C        154870850\n",
       "            D         82092175\n",
       "            E         26730125\n",
       "            F           142700\n",
       "            G            14000\n",
       "Name: loan_amnt, Length: 189, dtype: int64"
      ]
     },
     "execution_count": 28,
     "metadata": {},
     "output_type": "execute_result"
    }
   ],
   "source": [
    "data.groupby(['issue_dt', 'grade'])['loan_amnt'].sum()"
   ]
  },
  {
   "cell_type": "code",
   "execution_count": 33,
   "metadata": {},
   "outputs": [
    {
     "data": {
      "text/html": [
       "<div>\n",
       "<style scoped>\n",
       "    .dataframe tbody tr th:only-of-type {\n",
       "        vertical-align: middle;\n",
       "    }\n",
       "\n",
       "    .dataframe tbody tr th {\n",
       "        vertical-align: top;\n",
       "    }\n",
       "\n",
       "    .dataframe thead th {\n",
       "        text-align: right;\n",
       "    }\n",
       "</style>\n",
       "<table border=\"1\" class=\"dataframe\">\n",
       "  <thead>\n",
       "    <tr style=\"text-align: right;\">\n",
       "      <th></th>\n",
       "      <th>issue_dt</th>\n",
       "      <th>grade</th>\n",
       "      <th>loan_amnt</th>\n",
       "    </tr>\n",
       "  </thead>\n",
       "  <tbody>\n",
       "    <tr>\n",
       "      <th>0</th>\n",
       "      <td>2015-10-01</td>\n",
       "      <td>A</td>\n",
       "      <td>98847925</td>\n",
       "    </tr>\n",
       "    <tr>\n",
       "      <th>1</th>\n",
       "      <td>2015-10-01</td>\n",
       "      <td>B</td>\n",
       "      <td>157492625</td>\n",
       "    </tr>\n",
       "    <tr>\n",
       "      <th>2</th>\n",
       "      <td>2015-10-01</td>\n",
       "      <td>C</td>\n",
       "      <td>155293775</td>\n",
       "    </tr>\n",
       "    <tr>\n",
       "      <th>3</th>\n",
       "      <td>2015-10-01</td>\n",
       "      <td>D</td>\n",
       "      <td>82040875</td>\n",
       "    </tr>\n",
       "    <tr>\n",
       "      <th>4</th>\n",
       "      <td>2015-10-01</td>\n",
       "      <td>E</td>\n",
       "      <td>49807050</td>\n",
       "    </tr>\n",
       "  </tbody>\n",
       "</table>\n",
       "</div>"
      ],
      "text/plain": [
       "    issue_dt grade  loan_amnt\n",
       "0 2015-10-01     A   98847925\n",
       "1 2015-10-01     B  157492625\n",
       "2 2015-10-01     C  155293775\n",
       "3 2015-10-01     D   82040875\n",
       "4 2015-10-01     E   49807050"
      ]
     },
     "execution_count": 33,
     "metadata": {},
     "output_type": "execute_result"
    }
   ],
   "source": [
    "data.groupby(['issue_dt', 'grade'])['loan_amnt'].sum().reset_index().head()"
   ]
  },
  {
   "cell_type": "code",
   "execution_count": 34,
   "metadata": {},
   "outputs": [
    {
     "data": {
      "text/html": [
       "<div>\n",
       "<style scoped>\n",
       "    .dataframe tbody tr th:only-of-type {\n",
       "        vertical-align: middle;\n",
       "    }\n",
       "\n",
       "    .dataframe tbody tr th {\n",
       "        vertical-align: top;\n",
       "    }\n",
       "\n",
       "    .dataframe thead th {\n",
       "        text-align: right;\n",
       "    }\n",
       "</style>\n",
       "<table border=\"1\" class=\"dataframe\">\n",
       "  <thead>\n",
       "    <tr style=\"text-align: right;\">\n",
       "      <th>grade</th>\n",
       "      <th>A</th>\n",
       "      <th>B</th>\n",
       "      <th>C</th>\n",
       "      <th>D</th>\n",
       "      <th>E</th>\n",
       "      <th>F</th>\n",
       "      <th>G</th>\n",
       "    </tr>\n",
       "    <tr>\n",
       "      <th>issue_dt</th>\n",
       "      <th></th>\n",
       "      <th></th>\n",
       "      <th></th>\n",
       "      <th></th>\n",
       "      <th></th>\n",
       "      <th></th>\n",
       "      <th></th>\n",
       "    </tr>\n",
       "  </thead>\n",
       "  <tbody>\n",
       "    <tr>\n",
       "      <th>2015-10-01</th>\n",
       "      <td>98847925</td>\n",
       "      <td>157492625</td>\n",
       "      <td>155293775</td>\n",
       "      <td>82040875</td>\n",
       "      <td>49807050</td>\n",
       "      <td>13743250</td>\n",
       "      <td>3027675</td>\n",
       "    </tr>\n",
       "    <tr>\n",
       "      <th>2015-11-01</th>\n",
       "      <td>96877225</td>\n",
       "      <td>159012975</td>\n",
       "      <td>166885150</td>\n",
       "      <td>78934850</td>\n",
       "      <td>49738050</td>\n",
       "      <td>13179950</td>\n",
       "      <td>2569125</td>\n",
       "    </tr>\n",
       "    <tr>\n",
       "      <th>2015-12-01</th>\n",
       "      <td>111858650</td>\n",
       "      <td>182194000</td>\n",
       "      <td>191813650</td>\n",
       "      <td>101166925</td>\n",
       "      <td>59556350</td>\n",
       "      <td>17824425</td>\n",
       "      <td>3496550</td>\n",
       "    </tr>\n",
       "    <tr>\n",
       "      <th>2016-01-01</th>\n",
       "      <td>95759575</td>\n",
       "      <td>147332350</td>\n",
       "      <td>140597350</td>\n",
       "      <td>68702300</td>\n",
       "      <td>45947075</td>\n",
       "      <td>16410300</td>\n",
       "      <td>3654450</td>\n",
       "    </tr>\n",
       "    <tr>\n",
       "      <th>2016-02-01</th>\n",
       "      <td>104884925</td>\n",
       "      <td>183327175</td>\n",
       "      <td>178256025</td>\n",
       "      <td>78405100</td>\n",
       "      <td>49975575</td>\n",
       "      <td>19532500</td>\n",
       "      <td>5064950</td>\n",
       "    </tr>\n",
       "  </tbody>\n",
       "</table>\n",
       "</div>"
      ],
      "text/plain": [
       "grade               A          B          C          D         E         F  \\\n",
       "issue_dt                                                                     \n",
       "2015-10-01   98847925  157492625  155293775   82040875  49807050  13743250   \n",
       "2015-11-01   96877225  159012975  166885150   78934850  49738050  13179950   \n",
       "2015-12-01  111858650  182194000  191813650  101166925  59556350  17824425   \n",
       "2016-01-01   95759575  147332350  140597350   68702300  45947075  16410300   \n",
       "2016-02-01  104884925  183327175  178256025   78405100  49975575  19532500   \n",
       "\n",
       "grade             G  \n",
       "issue_dt             \n",
       "2015-10-01  3027675  \n",
       "2015-11-01  2569125  \n",
       "2015-12-01  3496550  \n",
       "2016-01-01  3654450  \n",
       "2016-02-01  5064950  "
      ]
     },
     "execution_count": 34,
     "metadata": {},
     "output_type": "execute_result"
    }
   ],
   "source": [
    "data.groupby(['issue_dt', 'grade'])['loan_amnt'].sum().unstack().head()"
   ]
  },
  {
   "cell_type": "code",
   "execution_count": 31,
   "metadata": {},
   "outputs": [
    {
     "data": {
      "text/plain": [
       "Text(0, 0.5, 'Disbursed Amount (US Dollars)')"
      ]
     },
     "execution_count": 31,
     "metadata": {},
     "output_type": "execute_result"
    },
    {
     "data": {
      "image/png": "[encoded data removed]",
      "text/plain": [
       "<Figure size 1008x576 with 1 Axes>"
      ]
     },
     "metadata": {
      "needs_background": "light"
     },
     "output_type": "display_data"
    }
   ],
   "source": [
    "# let's see how much money Lending Club has disbursed\n",
    "# (i.e., lent) over the years to the different risk\n",
    "# markets (grade variable)\n",
    "\n",
    "fig = data.groupby(['issue_dt', 'grade'])['loan_amnt'].sum().unstack().plot(\n",
    "    figsize=(14, 8), linewidth=2)\n",
    "\n",
    "fig.set_title('Disbursed amount in time')\n",
    "fig.set_ylabel('Disbursed Amount (US Dollars)')"
   ]
  },
  {
   "cell_type": "markdown",
   "metadata": {},
   "source": [
    "Lending Club seems to have increased the amount of money lent from 2013 onwards. The tendency indicates that they continue to grow. In addition, we can see that their major business comes from lending money to C and B grades.\n",
    "\n",
    "'A' grades are the lower risk borrowers, this is borrowers that most likely will be able to repay their loans, as they are typically in a better financial situation. Borrowers within this grade are typically charged lower interest rates.\n",
    "\n",
    "E, F and G grades represent the riskier borrowers. Usually borrowers in somewhat tighter financial situations, or for whom there is not sufficient financial history to make a reliable credit assessment. They are typically charged higher rates, as the business, and therefore the investors, take a higher risk when lending them money."
   ]
  },
  {
   "cell_type": "markdown",
   "metadata": {
    "collapsed": true
   },
   "source": [
    "Lending Club lends the biggest fraction to borrowers that intend to use that money to repay other debt or credit cards."
   ]
  },
  {
   "cell_type": "markdown",
   "metadata": {
    "collapsed": true
   },
   "source": [
    "**That is all for this demonstration. I hope you enjoyed the notebook, and see you in the next one.**"
   ]
  }
 ],
 "metadata": {
  "kernelspec": {
   "display_name": "Python 3",
   "language": "python",
   "name": "python3"
  },
  "language_info": {
   "codemirror_mode": {
    "name": "ipython",
    "version": 3
   },
   "file_extension": ".py",
   "mimetype": "text/x-python",
   "name": "python",
   "nbconvert_exporter": "python",
   "pygments_lexer": "ipython3",
   "version": "3.7.1"
  },
  "toc": {
   "nav_menu": {},
   "number_sections": true,
   "sideBar": true,
   "skip_h1_title": false,
   "toc_cell": false,
   "toc_position": {
    "height": "563px",
    "left": "0px",
    "right": "867.4px",
    "top": "107px",
    "width": "165px"
   },
   "toc_section_display": "block",
   "toc_window_display": true
  }
 },
 "nbformat": 4,
 "nbformat_minor": 1
}
